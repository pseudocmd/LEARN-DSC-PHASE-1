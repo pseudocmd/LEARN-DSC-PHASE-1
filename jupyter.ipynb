{
 "cells": [
  {
   "cell_type": "markdown",
   "metadata": {},
   "source": [
    "Movie Recommendation Analysis"
   ]
  },
  {
   "cell_type": "markdown",
   "metadata": {},
   "source": [
    "Overview"
   ]
  },
  {
   "cell_type": "markdown",
   "metadata": {},
   "source": [
    "Microsoft intends to establish a lucrative film studio as part of its decision. The financial performance of various genres is shown through descriptive analysis of box office income, budget, ratings, and genres. Microsoft can use this data to determine the kinds of movies it wants to make."
   ]
  },
  {
   "cell_type": "markdown",
   "metadata": {},
   "source": [
    "Business Problem"
   ]
  },
  {
   "cell_type": "markdown",
   "metadata": {},
   "source": [
    "Microsoft aims to establish a profitable film studio. To help them choose what kinds of movies to make, they would like to know what kinds of movies are currently doing the best in the film industry. I examined which genres had the biggest return on investment, which ones have the most reviews, and which ones do well in both domestic and international markets using data from IMDB and The Numbers. This will facilitate Microsoft's profitable entry into the film industry."
   ]
  },
  {
   "cell_type": "markdown",
   "metadata": {},
   "source": [
    "1.DATA UNDERSTANDING"
   ]
  },
  {
   "cell_type": "markdown",
   "metadata": {},
   "source": [
    "IMDB"
   ]
  },
  {
   "cell_type": "markdown",
   "metadata": {},
   "source": [
    "IMDB keeps track of movie titles, release dates, length, and genres. They have several databases that link movies based on their ID. Users can also rate movies on IMDB, which keeps track of the average rating and number of reviewers for each film."
   ]
  },
  {
   "cell_type": "code",
   "execution_count": 5,
   "metadata": {},
   "outputs": [],
   "source": [
    "import pandas as pd\n",
    "import numpy as np\n",
    "import matplotlib.pyplot as plt\n",
    "%matplotlib inline\n",
    "import seaborn as sns"
   ]
  },
  {
   "cell_type": "code",
   "execution_count": 6,
   "metadata": {},
   "outputs": [
    {
     "data": {
      "text/html": [
       "<div>\n",
       "<style scoped>\n",
       "    .dataframe tbody tr th:only-of-type {\n",
       "        vertical-align: middle;\n",
       "    }\n",
       "\n",
       "    .dataframe tbody tr th {\n",
       "        vertical-align: top;\n",
       "    }\n",
       "\n",
       "    .dataframe thead th {\n",
       "        text-align: right;\n",
       "    }\n",
       "</style>\n",
       "<table border=\"1\" class=\"dataframe\">\n",
       "  <thead>\n",
       "    <tr style=\"text-align: right;\">\n",
       "      <th></th>\n",
       "      <th>id</th>\n",
       "      <th>release_date</th>\n",
       "      <th>movie</th>\n",
       "      <th>production_budget</th>\n",
       "      <th>domestic_gross</th>\n",
       "      <th>worldwide_gross</th>\n",
       "    </tr>\n",
       "  </thead>\n",
       "  <tbody>\n",
       "    <tr>\n",
       "      <th>0</th>\n",
       "      <td>1</td>\n",
       "      <td>Dec 18, 2009</td>\n",
       "      <td>Avatar</td>\n",
       "      <td>$425,000,000</td>\n",
       "      <td>$760,507,625</td>\n",
       "      <td>$2,776,345,279</td>\n",
       "    </tr>\n",
       "    <tr>\n",
       "      <th>1</th>\n",
       "      <td>2</td>\n",
       "      <td>May 20, 2011</td>\n",
       "      <td>Pirates of the Caribbean: On Stranger Tides</td>\n",
       "      <td>$410,600,000</td>\n",
       "      <td>$241,063,875</td>\n",
       "      <td>$1,045,663,875</td>\n",
       "    </tr>\n",
       "    <tr>\n",
       "      <th>2</th>\n",
       "      <td>3</td>\n",
       "      <td>Jun 7, 2019</td>\n",
       "      <td>Dark Phoenix</td>\n",
       "      <td>$350,000,000</td>\n",
       "      <td>$42,762,350</td>\n",
       "      <td>$149,762,350</td>\n",
       "    </tr>\n",
       "    <tr>\n",
       "      <th>3</th>\n",
       "      <td>4</td>\n",
       "      <td>May 1, 2015</td>\n",
       "      <td>Avengers: Age of Ultron</td>\n",
       "      <td>$330,600,000</td>\n",
       "      <td>$459,005,868</td>\n",
       "      <td>$1,403,013,963</td>\n",
       "    </tr>\n",
       "    <tr>\n",
       "      <th>4</th>\n",
       "      <td>5</td>\n",
       "      <td>Dec 15, 2017</td>\n",
       "      <td>Star Wars Ep. VIII: The Last Jedi</td>\n",
       "      <td>$317,000,000</td>\n",
       "      <td>$620,181,382</td>\n",
       "      <td>$1,316,721,747</td>\n",
       "    </tr>\n",
       "  </tbody>\n",
       "</table>\n",
       "</div>"
      ],
      "text/plain": [
       "   id  release_date                                        movie  \\\n",
       "0   1  Dec 18, 2009                                       Avatar   \n",
       "1   2  May 20, 2011  Pirates of the Caribbean: On Stranger Tides   \n",
       "2   3   Jun 7, 2019                                 Dark Phoenix   \n",
       "3   4   May 1, 2015                      Avengers: Age of Ultron   \n",
       "4   5  Dec 15, 2017            Star Wars Ep. VIII: The Last Jedi   \n",
       "\n",
       "  production_budget domestic_gross worldwide_gross  \n",
       "0      $425,000,000   $760,507,625  $2,776,345,279  \n",
       "1      $410,600,000   $241,063,875  $1,045,663,875  \n",
       "2      $350,000,000    $42,762,350    $149,762,350  \n",
       "3      $330,600,000   $459,005,868  $1,403,013,963  \n",
       "4      $317,000,000   $620,181,382  $1,316,721,747  "
      ]
     },
     "execution_count": 6,
     "metadata": {},
     "output_type": "execute_result"
    }
   ],
   "source": [
    "df_imdb_title = pd.read_csv(r\"C:\\Users\\ADMIN\\OneDrive\\Desktop\\LEARN DSC-PHASE 1\\tn.movie_budgets.csv\\tn.movie_budgets.csv\")\n",
    "df_imdb_title.head()"
   ]
  },
  {
   "cell_type": "code",
   "execution_count": 7,
   "metadata": {},
   "outputs": [
    {
     "data": {
      "text/html": [
       "<div>\n",
       "<style scoped>\n",
       "    .dataframe tbody tr th:only-of-type {\n",
       "        vertical-align: middle;\n",
       "    }\n",
       "\n",
       "    .dataframe tbody tr th {\n",
       "        vertical-align: top;\n",
       "    }\n",
       "\n",
       "    .dataframe thead th {\n",
       "        text-align: right;\n",
       "    }\n",
       "</style>\n",
       "<table border=\"1\" class=\"dataframe\">\n",
       "  <thead>\n",
       "    <tr style=\"text-align: right;\">\n",
       "      <th></th>\n",
       "      <th>Unnamed: 0</th>\n",
       "      <th>genre_ids</th>\n",
       "      <th>id</th>\n",
       "      <th>original_language</th>\n",
       "      <th>original_title</th>\n",
       "      <th>popularity</th>\n",
       "      <th>release_date</th>\n",
       "      <th>title</th>\n",
       "      <th>vote_average</th>\n",
       "      <th>vote_count</th>\n",
       "    </tr>\n",
       "  </thead>\n",
       "  <tbody>\n",
       "    <tr>\n",
       "      <th>0</th>\n",
       "      <td>0</td>\n",
       "      <td>[12, 14, 10751]</td>\n",
       "      <td>12444</td>\n",
       "      <td>en</td>\n",
       "      <td>Harry Potter and the Deathly Hallows: Part 1</td>\n",
       "      <td>33.533</td>\n",
       "      <td>2010-11-19</td>\n",
       "      <td>Harry Potter and the Deathly Hallows: Part 1</td>\n",
       "      <td>7.7</td>\n",
       "      <td>10788</td>\n",
       "    </tr>\n",
       "    <tr>\n",
       "      <th>1</th>\n",
       "      <td>1</td>\n",
       "      <td>[14, 12, 16, 10751]</td>\n",
       "      <td>10191</td>\n",
       "      <td>en</td>\n",
       "      <td>How to Train Your Dragon</td>\n",
       "      <td>28.734</td>\n",
       "      <td>2010-03-26</td>\n",
       "      <td>How to Train Your Dragon</td>\n",
       "      <td>7.7</td>\n",
       "      <td>7610</td>\n",
       "    </tr>\n",
       "    <tr>\n",
       "      <th>2</th>\n",
       "      <td>2</td>\n",
       "      <td>[12, 28, 878]</td>\n",
       "      <td>10138</td>\n",
       "      <td>en</td>\n",
       "      <td>Iron Man 2</td>\n",
       "      <td>28.515</td>\n",
       "      <td>2010-05-07</td>\n",
       "      <td>Iron Man 2</td>\n",
       "      <td>6.8</td>\n",
       "      <td>12368</td>\n",
       "    </tr>\n",
       "    <tr>\n",
       "      <th>3</th>\n",
       "      <td>3</td>\n",
       "      <td>[16, 35, 10751]</td>\n",
       "      <td>862</td>\n",
       "      <td>en</td>\n",
       "      <td>Toy Story</td>\n",
       "      <td>28.005</td>\n",
       "      <td>1995-11-22</td>\n",
       "      <td>Toy Story</td>\n",
       "      <td>7.9</td>\n",
       "      <td>10174</td>\n",
       "    </tr>\n",
       "    <tr>\n",
       "      <th>4</th>\n",
       "      <td>4</td>\n",
       "      <td>[28, 878, 12]</td>\n",
       "      <td>27205</td>\n",
       "      <td>en</td>\n",
       "      <td>Inception</td>\n",
       "      <td>27.920</td>\n",
       "      <td>2010-07-16</td>\n",
       "      <td>Inception</td>\n",
       "      <td>8.3</td>\n",
       "      <td>22186</td>\n",
       "    </tr>\n",
       "  </tbody>\n",
       "</table>\n",
       "</div>"
      ],
      "text/plain": [
       "   Unnamed: 0            genre_ids     id original_language  \\\n",
       "0           0      [12, 14, 10751]  12444                en   \n",
       "1           1  [14, 12, 16, 10751]  10191                en   \n",
       "2           2        [12, 28, 878]  10138                en   \n",
       "3           3      [16, 35, 10751]    862                en   \n",
       "4           4        [28, 878, 12]  27205                en   \n",
       "\n",
       "                                 original_title  popularity release_date  \\\n",
       "0  Harry Potter and the Deathly Hallows: Part 1      33.533   2010-11-19   \n",
       "1                      How to Train Your Dragon      28.734   2010-03-26   \n",
       "2                                    Iron Man 2      28.515   2010-05-07   \n",
       "3                                     Toy Story      28.005   1995-11-22   \n",
       "4                                     Inception      27.920   2010-07-16   \n",
       "\n",
       "                                          title  vote_average  vote_count  \n",
       "0  Harry Potter and the Deathly Hallows: Part 1           7.7       10788  \n",
       "1                      How to Train Your Dragon           7.7        7610  \n",
       "2                                    Iron Man 2           6.8       12368  \n",
       "3                                     Toy Story           7.9       10174  \n",
       "4                                     Inception           8.3       22186  "
      ]
     },
     "execution_count": 7,
     "metadata": {},
     "output_type": "execute_result"
    }
   ],
   "source": [
    "df_imdb_title = pd.read_csv(r\"C:\\Users\\ADMIN\\OneDrive\\Desktop\\LEARN DSC-PHASE 1\\tmdb.movies.csv\\tmdb.movies.csv\")\n",
    "df_imdb_title.head()"
   ]
  },
  {
   "cell_type": "code",
   "execution_count": 8,
   "metadata": {},
   "outputs": [
    {
     "data": {
      "text/html": [
       "<div>\n",
       "<style scoped>\n",
       "    .dataframe tbody tr th:only-of-type {\n",
       "        vertical-align: middle;\n",
       "    }\n",
       "\n",
       "    .dataframe tbody tr th {\n",
       "        vertical-align: top;\n",
       "    }\n",
       "\n",
       "    .dataframe thead th {\n",
       "        text-align: right;\n",
       "    }\n",
       "</style>\n",
       "<table border=\"1\" class=\"dataframe\">\n",
       "  <thead>\n",
       "    <tr style=\"text-align: right;\">\n",
       "      <th></th>\n",
       "      <th>title</th>\n",
       "      <th>studio</th>\n",
       "      <th>domestic_gross</th>\n",
       "      <th>foreign_gross</th>\n",
       "      <th>year</th>\n",
       "    </tr>\n",
       "  </thead>\n",
       "  <tbody>\n",
       "    <tr>\n",
       "      <th>0</th>\n",
       "      <td>Toy Story 3</td>\n",
       "      <td>BV</td>\n",
       "      <td>415000000.0</td>\n",
       "      <td>652000000</td>\n",
       "      <td>2010</td>\n",
       "    </tr>\n",
       "    <tr>\n",
       "      <th>1</th>\n",
       "      <td>Alice in Wonderland (2010)</td>\n",
       "      <td>BV</td>\n",
       "      <td>334200000.0</td>\n",
       "      <td>691300000</td>\n",
       "      <td>2010</td>\n",
       "    </tr>\n",
       "    <tr>\n",
       "      <th>2</th>\n",
       "      <td>Harry Potter and the Deathly Hallows Part 1</td>\n",
       "      <td>WB</td>\n",
       "      <td>296000000.0</td>\n",
       "      <td>664300000</td>\n",
       "      <td>2010</td>\n",
       "    </tr>\n",
       "    <tr>\n",
       "      <th>3</th>\n",
       "      <td>Inception</td>\n",
       "      <td>WB</td>\n",
       "      <td>292600000.0</td>\n",
       "      <td>535700000</td>\n",
       "      <td>2010</td>\n",
       "    </tr>\n",
       "    <tr>\n",
       "      <th>4</th>\n",
       "      <td>Shrek Forever After</td>\n",
       "      <td>P/DW</td>\n",
       "      <td>238700000.0</td>\n",
       "      <td>513900000</td>\n",
       "      <td>2010</td>\n",
       "    </tr>\n",
       "  </tbody>\n",
       "</table>\n",
       "</div>"
      ],
      "text/plain": [
       "                                         title studio  domestic_gross  \\\n",
       "0                                  Toy Story 3     BV     415000000.0   \n",
       "1                   Alice in Wonderland (2010)     BV     334200000.0   \n",
       "2  Harry Potter and the Deathly Hallows Part 1     WB     296000000.0   \n",
       "3                                    Inception     WB     292600000.0   \n",
       "4                          Shrek Forever After   P/DW     238700000.0   \n",
       "\n",
       "  foreign_gross  year  \n",
       "0     652000000  2010  \n",
       "1     691300000  2010  \n",
       "2     664300000  2010  \n",
       "3     535700000  2010  \n",
       "4     513900000  2010  "
      ]
     },
     "execution_count": 8,
     "metadata": {},
     "output_type": "execute_result"
    }
   ],
   "source": [
    "df_imdb_title = pd.read_csv(r\"C:\\Users\\ADMIN\\OneDrive\\Desktop\\LEARN DSC-PHASE 1\\bom.movie_gross.csv\\bom.movie_gross.csv\")\n",
    "df_imdb_title.head()"
   ]
  },
  {
   "cell_type": "markdown",
   "metadata": {},
   "source": [
    "HIGHEST RATING GENRE\n",
    "Which genre(s) is most likely to receive the highest ratings?"
   ]
  },
  {
   "cell_type": "code",
   "execution_count": 14,
   "metadata": {},
   "outputs": [
    {
     "name": "stdout",
     "output_type": "stream",
     "text": [
      "C:\\Users\\ADMIN\\OneDrive\\Desktop\\LEARN DSC-PHASE 1\\tmdb.movies.csv\\tmdb.movies.csv\n"
     ]
    },
    {
     "data": {
      "text/html": [
       "<div>\n",
       "<style scoped>\n",
       "    .dataframe tbody tr th:only-of-type {\n",
       "        vertical-align: middle;\n",
       "    }\n",
       "\n",
       "    .dataframe tbody tr th {\n",
       "        vertical-align: top;\n",
       "    }\n",
       "\n",
       "    .dataframe thead th {\n",
       "        text-align: right;\n",
       "    }\n",
       "</style>\n",
       "<table border=\"1\" class=\"dataframe\">\n",
       "  <thead>\n",
       "    <tr style=\"text-align: right;\">\n",
       "      <th></th>\n",
       "      <th>Unnamed: 0</th>\n",
       "      <th>genre_ids</th>\n",
       "      <th>id</th>\n",
       "      <th>original_language</th>\n",
       "      <th>original_title</th>\n",
       "      <th>popularity</th>\n",
       "      <th>release_date</th>\n",
       "      <th>title</th>\n",
       "      <th>vote_average</th>\n",
       "      <th>vote_count</th>\n",
       "    </tr>\n",
       "  </thead>\n",
       "  <tbody>\n",
       "    <tr>\n",
       "      <th>0</th>\n",
       "      <td>0</td>\n",
       "      <td>[12, 14, 10751]</td>\n",
       "      <td>12444</td>\n",
       "      <td>en</td>\n",
       "      <td>Harry Potter and the Deathly Hallows: Part 1</td>\n",
       "      <td>33.533</td>\n",
       "      <td>2010-11-19</td>\n",
       "      <td>Harry Potter and the Deathly Hallows: Part 1</td>\n",
       "      <td>7.7</td>\n",
       "      <td>10788</td>\n",
       "    </tr>\n",
       "    <tr>\n",
       "      <th>1</th>\n",
       "      <td>1</td>\n",
       "      <td>[14, 12, 16, 10751]</td>\n",
       "      <td>10191</td>\n",
       "      <td>en</td>\n",
       "      <td>How to Train Your Dragon</td>\n",
       "      <td>28.734</td>\n",
       "      <td>2010-03-26</td>\n",
       "      <td>How to Train Your Dragon</td>\n",
       "      <td>7.7</td>\n",
       "      <td>7610</td>\n",
       "    </tr>\n",
       "    <tr>\n",
       "      <th>2</th>\n",
       "      <td>2</td>\n",
       "      <td>[12, 28, 878]</td>\n",
       "      <td>10138</td>\n",
       "      <td>en</td>\n",
       "      <td>Iron Man 2</td>\n",
       "      <td>28.515</td>\n",
       "      <td>2010-05-07</td>\n",
       "      <td>Iron Man 2</td>\n",
       "      <td>6.8</td>\n",
       "      <td>12368</td>\n",
       "    </tr>\n",
       "    <tr>\n",
       "      <th>3</th>\n",
       "      <td>3</td>\n",
       "      <td>[16, 35, 10751]</td>\n",
       "      <td>862</td>\n",
       "      <td>en</td>\n",
       "      <td>Toy Story</td>\n",
       "      <td>28.005</td>\n",
       "      <td>1995-11-22</td>\n",
       "      <td>Toy Story</td>\n",
       "      <td>7.9</td>\n",
       "      <td>10174</td>\n",
       "    </tr>\n",
       "    <tr>\n",
       "      <th>4</th>\n",
       "      <td>4</td>\n",
       "      <td>[28, 878, 12]</td>\n",
       "      <td>27205</td>\n",
       "      <td>en</td>\n",
       "      <td>Inception</td>\n",
       "      <td>27.920</td>\n",
       "      <td>2010-07-16</td>\n",
       "      <td>Inception</td>\n",
       "      <td>8.3</td>\n",
       "      <td>22186</td>\n",
       "    </tr>\n",
       "  </tbody>\n",
       "</table>\n",
       "</div>"
      ],
      "text/plain": [
       "   Unnamed: 0            genre_ids     id original_language  \\\n",
       "0           0      [12, 14, 10751]  12444                en   \n",
       "1           1  [14, 12, 16, 10751]  10191                en   \n",
       "2           2        [12, 28, 878]  10138                en   \n",
       "3           3      [16, 35, 10751]    862                en   \n",
       "4           4        [28, 878, 12]  27205                en   \n",
       "\n",
       "                                 original_title  popularity release_date  \\\n",
       "0  Harry Potter and the Deathly Hallows: Part 1      33.533   2010-11-19   \n",
       "1                      How to Train Your Dragon      28.734   2010-03-26   \n",
       "2                                    Iron Man 2      28.515   2010-05-07   \n",
       "3                                     Toy Story      28.005   1995-11-22   \n",
       "4                                     Inception      27.920   2010-07-16   \n",
       "\n",
       "                                          title  vote_average  vote_count  \n",
       "0  Harry Potter and the Deathly Hallows: Part 1           7.7       10788  \n",
       "1                      How to Train Your Dragon           7.7        7610  \n",
       "2                                    Iron Man 2           6.8       12368  \n",
       "3                                     Toy Story           7.9       10174  \n",
       "4                                     Inception           8.3       22186  "
      ]
     },
     "execution_count": 14,
     "metadata": {},
     "output_type": "execute_result"
    }
   ],
   "source": [
    "#load data for single item\n",
    "df_imdb_title =(r\"C:\\Users\\ADMIN\\OneDrive\\Desktop\\LEARN DSC-PHASE 1\\tmdb.movies.csv\\tmdb.movies.csv\")\n",
    "print(df_imdb_title)\n",
    "df_imdb = pd.read_csv(df_imdb_title )\n",
    "df_imdb.head()"
   ]
  },
  {
   "cell_type": "code",
   "execution_count": 15,
   "metadata": {},
   "outputs": [
    {
     "data": {
      "text/html": [
       "<div>\n",
       "<style scoped>\n",
       "    .dataframe tbody tr th:only-of-type {\n",
       "        vertical-align: middle;\n",
       "    }\n",
       "\n",
       "    .dataframe tbody tr th {\n",
       "        vertical-align: top;\n",
       "    }\n",
       "\n",
       "    .dataframe thead th {\n",
       "        text-align: right;\n",
       "    }\n",
       "</style>\n",
       "<table border=\"1\" class=\"dataframe\">\n",
       "  <thead>\n",
       "    <tr style=\"text-align: right;\">\n",
       "      <th></th>\n",
       "      <th>Unnamed: 0</th>\n",
       "      <th>id</th>\n",
       "      <th>popularity</th>\n",
       "      <th>vote_average</th>\n",
       "      <th>vote_count</th>\n",
       "    </tr>\n",
       "  </thead>\n",
       "  <tbody>\n",
       "    <tr>\n",
       "      <th>count</th>\n",
       "      <td>26517.00000</td>\n",
       "      <td>26517.000000</td>\n",
       "      <td>26517.000000</td>\n",
       "      <td>26517.000000</td>\n",
       "      <td>26517.000000</td>\n",
       "    </tr>\n",
       "    <tr>\n",
       "      <th>mean</th>\n",
       "      <td>13258.00000</td>\n",
       "      <td>295050.153260</td>\n",
       "      <td>3.130912</td>\n",
       "      <td>5.991281</td>\n",
       "      <td>194.224837</td>\n",
       "    </tr>\n",
       "    <tr>\n",
       "      <th>std</th>\n",
       "      <td>7654.94288</td>\n",
       "      <td>153661.615648</td>\n",
       "      <td>4.355229</td>\n",
       "      <td>1.852946</td>\n",
       "      <td>960.961095</td>\n",
       "    </tr>\n",
       "    <tr>\n",
       "      <th>min</th>\n",
       "      <td>0.00000</td>\n",
       "      <td>27.000000</td>\n",
       "      <td>0.600000</td>\n",
       "      <td>0.000000</td>\n",
       "      <td>1.000000</td>\n",
       "    </tr>\n",
       "    <tr>\n",
       "      <th>25%</th>\n",
       "      <td>6629.00000</td>\n",
       "      <td>157851.000000</td>\n",
       "      <td>0.600000</td>\n",
       "      <td>5.000000</td>\n",
       "      <td>2.000000</td>\n",
       "    </tr>\n",
       "    <tr>\n",
       "      <th>50%</th>\n",
       "      <td>13258.00000</td>\n",
       "      <td>309581.000000</td>\n",
       "      <td>1.374000</td>\n",
       "      <td>6.000000</td>\n",
       "      <td>5.000000</td>\n",
       "    </tr>\n",
       "    <tr>\n",
       "      <th>75%</th>\n",
       "      <td>19887.00000</td>\n",
       "      <td>419542.000000</td>\n",
       "      <td>3.694000</td>\n",
       "      <td>7.000000</td>\n",
       "      <td>28.000000</td>\n",
       "    </tr>\n",
       "    <tr>\n",
       "      <th>max</th>\n",
       "      <td>26516.00000</td>\n",
       "      <td>608444.000000</td>\n",
       "      <td>80.773000</td>\n",
       "      <td>10.000000</td>\n",
       "      <td>22186.000000</td>\n",
       "    </tr>\n",
       "  </tbody>\n",
       "</table>\n",
       "</div>"
      ],
      "text/plain": [
       "        Unnamed: 0             id    popularity  vote_average    vote_count\n",
       "count  26517.00000   26517.000000  26517.000000  26517.000000  26517.000000\n",
       "mean   13258.00000  295050.153260      3.130912      5.991281    194.224837\n",
       "std     7654.94288  153661.615648      4.355229      1.852946    960.961095\n",
       "min        0.00000      27.000000      0.600000      0.000000      1.000000\n",
       "25%     6629.00000  157851.000000      0.600000      5.000000      2.000000\n",
       "50%    13258.00000  309581.000000      1.374000      6.000000      5.000000\n",
       "75%    19887.00000  419542.000000      3.694000      7.000000     28.000000\n",
       "max    26516.00000  608444.000000     80.773000     10.000000  22186.000000"
      ]
     },
     "metadata": {},
     "output_type": "display_data"
    },
    {
     "data": {
      "text/plain": [
       "vote_count\n",
       "1        6541\n",
       "2        3044\n",
       "3        1757\n",
       "4        1347\n",
       "5         969\n",
       "         ... \n",
       "1407        1\n",
       "1410        1\n",
       "1420        1\n",
       "1422        1\n",
       "22186       1\n",
       "Name: count, Length: 1693, dtype: int64"
      ]
     },
     "metadata": {},
     "output_type": "display_data"
    },
    {
     "data": {
      "image/png": "[encoded data removed]",
      "text/plain": [
       "<Figure size 640x480 with 1 Axes>"
      ]
     },
     "metadata": {},
     "output_type": "display_data"
    }
   ],
   "source": [
    "display(df_imdb.describe())\n",
    "display(df_imdb.value_counts('vote_count'))\n",
    "df_imdb.plot.scatter(x='popularity', y='vote_count');"
   ]
  },
  {
   "cell_type": "markdown",
   "metadata": {},
   "source": [
    "As we move forward, we have two options for how we will interpret the vote data in this table: either treat each movie rating as equal to all others (with a minimum number of votes per movie) or treat each user vote as a rating vote for each of its genres. We'll look into the first approach. Unfortunately, there are a good number of movies in this database that have low vote counts. Since we work for Microsoft, our objective is to make films that a large number of people will enjoy; however, because we are a very large company, there probably needs to be a minimum for the amount of interest in our movie. As this scatterplot shows, there is a positive correlation between each user vote and the rating vote for each genre."
   ]
  },
  {
   "cell_type": "code",
   "execution_count": 16,
   "metadata": {},
   "outputs": [
    {
     "name": "stdout",
     "output_type": "stream",
     "text": [
      "24038\n"
     ]
    },
    {
     "data": {
      "text/html": [
       "<div>\n",
       "<style scoped>\n",
       "    .dataframe tbody tr th:only-of-type {\n",
       "        vertical-align: middle;\n",
       "    }\n",
       "\n",
       "    .dataframe tbody tr th {\n",
       "        vertical-align: top;\n",
       "    }\n",
       "\n",
       "    .dataframe thead th {\n",
       "        text-align: right;\n",
       "    }\n",
       "</style>\n",
       "<table border=\"1\" class=\"dataframe\">\n",
       "  <thead>\n",
       "    <tr style=\"text-align: right;\">\n",
       "      <th></th>\n",
       "      <th>Unnamed: 0</th>\n",
       "      <th>genre_ids</th>\n",
       "      <th>id</th>\n",
       "      <th>original_language</th>\n",
       "      <th>original_title</th>\n",
       "      <th>popularity</th>\n",
       "      <th>release_date</th>\n",
       "      <th>title</th>\n",
       "      <th>vote_average</th>\n",
       "      <th>vote_count</th>\n",
       "    </tr>\n",
       "  </thead>\n",
       "  <tbody>\n",
       "    <tr>\n",
       "      <th>13467</th>\n",
       "      <td>13467</td>\n",
       "      <td>[99]</td>\n",
       "      <td>261810</td>\n",
       "      <td>en</td>\n",
       "      <td>Silenced</td>\n",
       "      <td>0.600</td>\n",
       "      <td>2014-11-19</td>\n",
       "      <td>Silenced</td>\n",
       "      <td>7.7</td>\n",
       "      <td>7</td>\n",
       "    </tr>\n",
       "    <tr>\n",
       "      <th>15976</th>\n",
       "      <td>15976</td>\n",
       "      <td>[99]</td>\n",
       "      <td>441888</td>\n",
       "      <td>en</td>\n",
       "      <td>America's Greatest Prison Breaks</td>\n",
       "      <td>0.883</td>\n",
       "      <td>2015-12-27</td>\n",
       "      <td>America's Greatest Prison Breaks</td>\n",
       "      <td>6.0</td>\n",
       "      <td>1</td>\n",
       "    </tr>\n",
       "    <tr>\n",
       "      <th>15977</th>\n",
       "      <td>15977</td>\n",
       "      <td>[99]</td>\n",
       "      <td>566441</td>\n",
       "      <td>en</td>\n",
       "      <td>The Hunger Games: The Phenomenon</td>\n",
       "      <td>0.882</td>\n",
       "      <td>2015-11-12</td>\n",
       "      <td>The Hunger Games: The Phenomenon</td>\n",
       "      <td>10.0</td>\n",
       "      <td>1</td>\n",
       "    </tr>\n",
       "    <tr>\n",
       "      <th>15988</th>\n",
       "      <td>15988</td>\n",
       "      <td>[99]</td>\n",
       "      <td>562517</td>\n",
       "      <td>en</td>\n",
       "      <td>Birdman: All-Access (A View From the Wings)</td>\n",
       "      <td>0.881</td>\n",
       "      <td>2015-05-18</td>\n",
       "      <td>Birdman: All-Access (A View From the Wings)</td>\n",
       "      <td>10.0</td>\n",
       "      <td>1</td>\n",
       "    </tr>\n",
       "    <tr>\n",
       "      <th>15989</th>\n",
       "      <td>15989</td>\n",
       "      <td>[99]</td>\n",
       "      <td>390455</td>\n",
       "      <td>en</td>\n",
       "      <td>IOM TT</td>\n",
       "      <td>0.881</td>\n",
       "      <td>2015-06-27</td>\n",
       "      <td>IOM TT</td>\n",
       "      <td>10.0</td>\n",
       "      <td>1</td>\n",
       "    </tr>\n",
       "  </tbody>\n",
       "</table>\n",
       "</div>"
      ],
      "text/plain": [
       "       Unnamed: 0 genre_ids      id original_language  \\\n",
       "13467       13467      [99]  261810                en   \n",
       "15976       15976      [99]  441888                en   \n",
       "15977       15977      [99]  566441                en   \n",
       "15988       15988      [99]  562517                en   \n",
       "15989       15989      [99]  390455                en   \n",
       "\n",
       "                                    original_title  popularity release_date  \\\n",
       "13467                                     Silenced       0.600   2014-11-19   \n",
       "15976             America's Greatest Prison Breaks       0.883   2015-12-27   \n",
       "15977             The Hunger Games: The Phenomenon       0.882   2015-11-12   \n",
       "15988  Birdman: All-Access (A View From the Wings)       0.881   2015-05-18   \n",
       "15989                                       IOM TT       0.881   2015-06-27   \n",
       "\n",
       "                                             title  vote_average  vote_count  \n",
       "13467                                     Silenced           7.7           7  \n",
       "15976             America's Greatest Prison Breaks           6.0           1  \n",
       "15977             The Hunger Games: The Phenomenon          10.0           1  \n",
       "15988  Birdman: All-Access (A View From the Wings)          10.0           1  \n",
       "15989                                       IOM TT          10.0           1  "
      ]
     },
     "metadata": {},
     "output_type": "display_data"
    }
   ],
   "source": [
    "#cleaning out entries with no defined genre_ids\n",
    "df_imdb = df_imdb[df_imdb['genre_ids'] != '[]']\n",
    "print(df_imdb.shape[0])\n",
    "\n",
    "#confirming our genre_ids table will no longer start with empty values\n",
    "display(df_imdb.sort_values('genre_ids', ascending=False, inplace=False).head())"
   ]
  },
  {
   "cell_type": "markdown",
   "metadata": {},
   "source": [
    "NaNs have been removed from the genre_ids column.Let's now filter the results to only show films that have received five or more votes."
   ]
  },
  {
   "cell_type": "code",
   "execution_count": 17,
   "metadata": {},
   "outputs": [
    {
     "name": "stdout",
     "output_type": "stream",
     "text": [
      "13653\n"
     ]
    },
    {
     "name": "stderr",
     "output_type": "stream",
     "text": [
      "C:\\Users\\ADMIN\\AppData\\Local\\Temp\\ipykernel_5416\\856486495.py:2: UserWarning: Boolean Series key will be reindexed to match DataFrame index.\n",
      "  df_imdb_5vote_min = df_imdb[df_tmdb['vote_count'] >= 5]\n"
     ]
    },
    {
     "data": {
      "text/html": [
       "<div>\n",
       "<style scoped>\n",
       "    .dataframe tbody tr th:only-of-type {\n",
       "        vertical-align: middle;\n",
       "    }\n",
       "\n",
       "    .dataframe tbody tr th {\n",
       "        vertical-align: top;\n",
       "    }\n",
       "\n",
       "    .dataframe thead th {\n",
       "        text-align: right;\n",
       "    }\n",
       "</style>\n",
       "<table border=\"1\" class=\"dataframe\">\n",
       "  <thead>\n",
       "    <tr style=\"text-align: right;\">\n",
       "      <th></th>\n",
       "      <th>Unnamed: 0</th>\n",
       "      <th>genre_ids</th>\n",
       "      <th>id</th>\n",
       "      <th>original_language</th>\n",
       "      <th>original_title</th>\n",
       "      <th>popularity</th>\n",
       "      <th>release_date</th>\n",
       "      <th>title</th>\n",
       "      <th>vote_average</th>\n",
       "      <th>vote_count</th>\n",
       "    </tr>\n",
       "  </thead>\n",
       "  <tbody>\n",
       "    <tr>\n",
       "      <th>0</th>\n",
       "      <td>0</td>\n",
       "      <td>[12, 14, 10751]</td>\n",
       "      <td>12444</td>\n",
       "      <td>en</td>\n",
       "      <td>Harry Potter and the Deathly Hallows: Part 1</td>\n",
       "      <td>33.533</td>\n",
       "      <td>2010-11-19</td>\n",
       "      <td>Harry Potter and the Deathly Hallows: Part 1</td>\n",
       "      <td>7.7</td>\n",
       "      <td>10788</td>\n",
       "    </tr>\n",
       "    <tr>\n",
       "      <th>1</th>\n",
       "      <td>1</td>\n",
       "      <td>[14, 12, 16, 10751]</td>\n",
       "      <td>10191</td>\n",
       "      <td>en</td>\n",
       "      <td>How to Train Your Dragon</td>\n",
       "      <td>28.734</td>\n",
       "      <td>2010-03-26</td>\n",
       "      <td>How to Train Your Dragon</td>\n",
       "      <td>7.7</td>\n",
       "      <td>7610</td>\n",
       "    </tr>\n",
       "    <tr>\n",
       "      <th>2</th>\n",
       "      <td>2</td>\n",
       "      <td>[12, 28, 878]</td>\n",
       "      <td>10138</td>\n",
       "      <td>en</td>\n",
       "      <td>Iron Man 2</td>\n",
       "      <td>28.515</td>\n",
       "      <td>2010-05-07</td>\n",
       "      <td>Iron Man 2</td>\n",
       "      <td>6.8</td>\n",
       "      <td>12368</td>\n",
       "    </tr>\n",
       "    <tr>\n",
       "      <th>3</th>\n",
       "      <td>3</td>\n",
       "      <td>[16, 35, 10751]</td>\n",
       "      <td>862</td>\n",
       "      <td>en</td>\n",
       "      <td>Toy Story</td>\n",
       "      <td>28.005</td>\n",
       "      <td>1995-11-22</td>\n",
       "      <td>Toy Story</td>\n",
       "      <td>7.9</td>\n",
       "      <td>10174</td>\n",
       "    </tr>\n",
       "    <tr>\n",
       "      <th>4</th>\n",
       "      <td>4</td>\n",
       "      <td>[28, 878, 12]</td>\n",
       "      <td>27205</td>\n",
       "      <td>en</td>\n",
       "      <td>Inception</td>\n",
       "      <td>27.920</td>\n",
       "      <td>2010-07-16</td>\n",
       "      <td>Inception</td>\n",
       "      <td>8.3</td>\n",
       "      <td>22186</td>\n",
       "    </tr>\n",
       "  </tbody>\n",
       "</table>\n",
       "</div>"
      ],
      "text/plain": [
       "   Unnamed: 0            genre_ids     id original_language  \\\n",
       "0           0      [12, 14, 10751]  12444                en   \n",
       "1           1  [14, 12, 16, 10751]  10191                en   \n",
       "2           2        [12, 28, 878]  10138                en   \n",
       "3           3      [16, 35, 10751]    862                en   \n",
       "4           4        [28, 878, 12]  27205                en   \n",
       "\n",
       "                                 original_title  popularity release_date  \\\n",
       "0  Harry Potter and the Deathly Hallows: Part 1      33.533   2010-11-19   \n",
       "1                      How to Train Your Dragon      28.734   2010-03-26   \n",
       "2                                    Iron Man 2      28.515   2010-05-07   \n",
       "3                                     Toy Story      28.005   1995-11-22   \n",
       "4                                     Inception      27.920   2010-07-16   \n",
       "\n",
       "                                          title  vote_average  vote_count  \n",
       "0  Harry Potter and the Deathly Hallows: Part 1           7.7       10788  \n",
       "1                      How to Train Your Dragon           7.7        7610  \n",
       "2                                    Iron Man 2           6.8       12368  \n",
       "3                                     Toy Story           7.9       10174  \n",
       "4                                     Inception           8.3       22186  "
      ]
     },
     "execution_count": 17,
     "metadata": {},
     "output_type": "execute_result"
    }
   ],
   "source": [
    "#filtering out entries with less than 5 votes\n",
    "df_imdb_5vote_min = df_imdb[df_tmdb['vote_count'] >= 5]\n",
    "print(df_imdb_5vote_min.shape[0])\n",
    "df_imdb_5vote_min.head()"
   ]
  },
  {
   "cell_type": "markdown",
   "metadata": {},
   "source": [
    "In order to know all the data that will be shown for our genres visualization, we must now ascertain each unique genre_id."
   ]
  },
  {
   "cell_type": "code",
   "execution_count": 18,
   "metadata": {},
   "outputs": [],
   "source": [
    "#this is meant to interact with our 'genre_ids' strings from the dataframe\n",
    "#and return these numbers as a list object\n",
    "def genre_string_to_list(ids_string):\n",
    "    strcopy = ids_string.replace('[','').replace(']','').replace(' ','')\n",
    "    return strcopy.split(',')"
   ]
  },
  {
   "cell_type": "code",
   "execution_count": 19,
   "metadata": {},
   "outputs": [
    {
     "name": "stdout",
     "output_type": "stream",
     "text": [
      "['12', '14', '10751', '16', '28', '878', '35', '53', '27', '80', '18', '10749', '10402', '9648', '36', '37', '10770', '10752', '99']\n"
     ]
    }
   ],
   "source": [
    "#determine what the possible genre_ids are in our dataset\n",
    "all_genre_ids = [] #empty list start\n",
    "for index, row in df_imdb_5vote_min.iterrows(): #iterate over dataframe rows\n",
    "    genre_string = row['genre_ids']\n",
    "    genre_list = genre_string_to_list(genre_string) #generate a list for this row\n",
    "    for genre in genre_list: #iterate over the row, adding to our cumulative list of all ids\n",
    "        if genre not in all_genre_ids: #if it's not already in our list\n",
    "            all_genre_ids.append(genre)\n",
    "        \n",
    "print(all_genre_ids)"
   ]
  },
  {
   "cell_type": "markdown",
   "metadata": {},
   "source": [
    "We need to figure out how to convert the unique list of genre_ids into actual string values. For this, making a local dictionary seems like a reasonable solution. The movie database API provided these values."
   ]
  },
  {
   "cell_type": "code",
   "execution_count": 20,
   "metadata": {},
   "outputs": [],
   "source": [
    "#Lookup from the movie database API for the genre list\n",
    "genre_ids_dict = {'12':'Adventure', '28':'Action', '16':'Animation', '35':'Comedy', '80':'Crime', '99':'Documentary',\n",
    "                     '18':'Drama', '10751':'Family', '14':'Fantasy', '36':'History', '27':'Horror', '10402':'Music',\n",
    "                     '9648':'Mystery', '10749':'Romance', '878':'SciFi', '10770':'TV Movie', '53':'Thriller',\n",
    "                     '10752':'War', '37':'Western'}"
   ]
  },
  {
   "cell_type": "markdown",
   "metadata": {},
   "source": [
    "Let's begin finding values and filtering now. We'll filter for each genre_id as we loop over all of the newly created unique genre_ids. The intermediate position for each genre can then be found by taking the mean vote_average of the remaining rows. To ensure that this value is appropriate for one of our genres and to provide additional useful information, we will also print the standard deviation."
   ]
  },
  {
   "cell_type": "code",
   "execution_count": 22,
   "metadata": {},
   "outputs": [
    {
     "name": "stdout",
     "output_type": "stream",
     "text": [
      "Adventure:5.935914811229429  stdev:1.226641267419859\n",
      "Fantasy:5.987247474747474  stdev:1.2659406837545824\n",
      "Family:6.094617563739376  stdev:1.045956893190795\n",
      "Animation:6.499438832772166  stdev:1.0264314309735092\n",
      "Action:5.627225939269172  stdev:1.227170463696232\n",
      "SciFi:5.434268707482993  stdev:1.3807395400733902\n",
      "Comedy:5.937260428410372  stdev:1.0861553038379435\n",
      "Thriller:5.433604689026375  stdev:1.1057198041873628\n",
      "Horror:4.840957202024851  stdev:1.164676309773179\n",
      "Crime:5.960220994475138  stdev:0.9752898881168468\n",
      "Drama:6.159110130538701  stdev:1.0240278171999917\n",
      "Romance:6.078312537136066  stdev:0.9903693228905228\n",
      "Music:6.7956896551724135  stdev:1.0483262184461102\n",
      "Mystery:5.760859728506788  stdev:1.0953757152920507\n",
      "History:6.673815461346633  stdev:0.9137492302926176\n",
      "Western:5.592920353982301  stdev:1.313713168177411\n",
      "TV Movie:5.834434561626431  stdev:0.9930527273578601\n",
      "War:6.377685950413223  stdev:1.1754040607139613\n",
      "Documentary:6.920766590389016  stdev:0.893657666909509\n"
     ]
    }
   ],
   "source": [
    "#Find the vote averge per genre, place into a dictionary\n",
    "genre_counts_dict = {}\n",
    "for genre in all_genre_ids:\n",
    "    temp_df = df_imdb_5vote_min[df_imdb_5vote_min['genre_ids'].str.contains(genre)] #dataframe filtered on each genre id\n",
    "    vote_average = temp_df['vote_average'].mean()\n",
    "    genre_string = genre_ids_dict.get(genre) #lookup genre name based on ID\n",
    "    genre_counts_dict[genre_string] = vote_average #add average rating for this genre, place into dict\n",
    "    print(genre_string+ \":\" + str(vote_average) + \"  stdev:\"+str(temp_df['vote_average'].std()))"
   ]
  },
  {
   "cell_type": "markdown",
   "metadata": {},
   "source": [
    "We have our data, and at first glance, it can be a little difficult to understand exactly what all these numbers mean. To help us, let's make a visualization."
   ]
  },
  {
   "cell_type": "code",
   "execution_count": 23,
   "metadata": {},
   "outputs": [
    {
     "data": {
      "image/png": "[encoded data removed]",
      "text/plain": [
       "<Figure size 960x480 with 1 Axes>"
      ]
     },
     "metadata": {},
     "output_type": "display_data"
    }
   ],
   "source": [
    "plt.figure(num=None, figsize=(12, 6), dpi=80, facecolor='w', edgecolor='k')\n",
    "\n",
    "#sorting dict for visualization\n",
    "genre_counts_dict = dict(sorted(genre_counts_dict.items(), key=lambda item: item[1], reverse=True))\n",
    "keys = genre_counts_dict.keys()\n",
    "values = genre_counts_dict.values()\n",
    "\n",
    "y_pos = np.arange(len(keys))\n",
    "plt.xticks(y_pos, keys, rotation=60)\n",
    "plt.bar(keys,values)\n",
    "plt.title(\"Genre Ratings\")\n",
    "plt.xlabel(\"Genres\")\n",
    "plt.ylabel(\"Average Rating\")\n",
    "plt.show()"
   ]
  },
  {
   "cell_type": "markdown",
   "metadata": {},
   "source": [
    "From this IMDB dataset, it is evident that Documentaries have the highest average ratings of any type of movie with five or more ratings. Furthermore, this genre's lowest standard deviation among all others confirms its status as the best genre in this instance (most consistent), which is a very positive indicator. It's also important to note that the data suggests that it might be best to stay away from horror films, as this genre clearly stands out as the lowest-rated by a considerable margin."
   ]
  },
  {
   "cell_type": "markdown",
   "metadata": {},
   "source": [
    "The Ideal Budget to Prevent Profit Losses"
   ]
  },
  {
   "cell_type": "markdown",
   "metadata": {},
   "source": [
    "We're going to try our hand at answering the following: Which genre or genres have the highest chance of being profitable?\n",
    "\n",
    "The exact information we require to calculate profits is contained in the \"tn.movie_budgets.csv.gz\". I think by figuring out the profits, we'll be able to get fresh information and provide an answer to another query:\n"
   ]
  },
  {
   "cell_type": "markdown",
   "metadata": {},
   "source": [
    "WHAT IS THE OPTIMAL BUDGET RANGE TO PREVENT LOSSES ON PROFITS"
   ]
  },
  {
   "cell_type": "markdown",
   "metadata": {},
   "source": [
    "In order to determine our Most Profitable Genre(s), we will need to try importing the genre from another table. Regretfully, profits AND genre are not included in the same table.\n",
    "\n",
    "For now, let's start by taking a closer look at the \"The Numbers\" dataset."
   ]
  },
  {
   "cell_type": "code",
   "execution_count": 25,
   "metadata": {},
   "outputs": [
    {
     "name": "stdout",
     "output_type": "stream",
     "text": [
      "C:\\Users\\ADMIN\\OneDrive\\Desktop\\LEARN DSC-PHASE 1\\tn.movie_budgets.csv\\tn.movie_budgets.csv\n"
     ]
    },
    {
     "data": {
      "text/html": [
       "<div>\n",
       "<style scoped>\n",
       "    .dataframe tbody tr th:only-of-type {\n",
       "        vertical-align: middle;\n",
       "    }\n",
       "\n",
       "    .dataframe tbody tr th {\n",
       "        vertical-align: top;\n",
       "    }\n",
       "\n",
       "    .dataframe thead th {\n",
       "        text-align: right;\n",
       "    }\n",
       "</style>\n",
       "<table border=\"1\" class=\"dataframe\">\n",
       "  <thead>\n",
       "    <tr style=\"text-align: right;\">\n",
       "      <th></th>\n",
       "      <th>id</th>\n",
       "      <th>release_date</th>\n",
       "      <th>movie</th>\n",
       "      <th>production_budget</th>\n",
       "      <th>domestic_gross</th>\n",
       "      <th>worldwide_gross</th>\n",
       "    </tr>\n",
       "  </thead>\n",
       "  <tbody>\n",
       "    <tr>\n",
       "      <th>406</th>\n",
       "      <td>7</td>\n",
       "      <td>Nov 6, 2015</td>\n",
       "      <td>The Peanuts Movie</td>\n",
       "      <td>$99,000,000</td>\n",
       "      <td>$130,178,411</td>\n",
       "      <td>$250,091,610</td>\n",
       "    </tr>\n",
       "    <tr>\n",
       "      <th>407</th>\n",
       "      <td>8</td>\n",
       "      <td>Feb 8, 2019</td>\n",
       "      <td>The LEGO Movie 2: The Second Part</td>\n",
       "      <td>$99,000,000</td>\n",
       "      <td>$105,806,508</td>\n",
       "      <td>$190,325,698</td>\n",
       "    </tr>\n",
       "    <tr>\n",
       "      <th>408</th>\n",
       "      <td>9</td>\n",
       "      <td>Nov 21, 2018</td>\n",
       "      <td>Robin Hood</td>\n",
       "      <td>$99,000,000</td>\n",
       "      <td>$30,824,628</td>\n",
       "      <td>$84,747,441</td>\n",
       "    </tr>\n",
       "    <tr>\n",
       "      <th>5326</th>\n",
       "      <td>27</td>\n",
       "      <td>Jun 1, 2007</td>\n",
       "      <td>And Then Came Love</td>\n",
       "      <td>$989,000</td>\n",
       "      <td>$8,158</td>\n",
       "      <td>$8,158</td>\n",
       "    </tr>\n",
       "    <tr>\n",
       "      <th>409</th>\n",
       "      <td>10</td>\n",
       "      <td>May 4, 2001</td>\n",
       "      <td>The Mummy Returns</td>\n",
       "      <td>$98,000,000</td>\n",
       "      <td>$202,007,640</td>\n",
       "      <td>$435,040,395</td>\n",
       "    </tr>\n",
       "  </tbody>\n",
       "</table>\n",
       "</div>"
      ],
      "text/plain": [
       "      id  release_date                              movie production_budget  \\\n",
       "406    7   Nov 6, 2015                  The Peanuts Movie       $99,000,000   \n",
       "407    8   Feb 8, 2019  The LEGO Movie 2: The Second Part       $99,000,000   \n",
       "408    9  Nov 21, 2018                         Robin Hood       $99,000,000   \n",
       "5326  27   Jun 1, 2007                 And Then Came Love          $989,000   \n",
       "409   10   May 4, 2001                  The Mummy Returns       $98,000,000   \n",
       "\n",
       "     domestic_gross worldwide_gross  \n",
       "406    $130,178,411    $250,091,610  \n",
       "407    $105,806,508    $190,325,698  \n",
       "408     $30,824,628     $84,747,441  \n",
       "5326         $8,158          $8,158  \n",
       "409    $202,007,640    $435,040,395  "
      ]
     },
     "execution_count": 25,
     "metadata": {},
     "output_type": "execute_result"
    }
   ],
   "source": [
    "#investigate and clean this data\n",
    "tn_filename = (r\"C:\\Users\\ADMIN\\OneDrive\\Desktop\\LEARN DSC-PHASE 1\\tn.movie_budgets.csv\\tn.movie_budgets.csv\")\n",
    "print(tn_filename)\n",
    "df_tn = pd.read_csv(tn_filename)\n",
    "df_tn.sort_values('production_budget', ascending=False).head()"
   ]
  },
  {
   "cell_type": "markdown",
   "metadata": {},
   "source": [
    "We will need to convert production_budget, domestic_gross, and worldwide_gross to an actual number format, as I can see right away. Production_budget sorting reveals values out of order (see fourth entry, \"And Then Came Love\"), so this obviously needs to be fixed. Let's write a method that will help us translate these strings into numerical values."
   ]
  },
  {
   "cell_type": "code",
   "execution_count": 26,
   "metadata": {},
   "outputs": [
    {
     "data": {
      "text/plain": [
       "99000000"
      ]
     },
     "execution_count": 26,
     "metadata": {},
     "output_type": "execute_result"
    }
   ],
   "source": [
    "def convert_money_to_value(money):\n",
    "    money = money.replace('$', '')\n",
    "    money = money.replace(',', '')\n",
    "    money = int(money) #this could be an issue if we pass the integer value limit but I don't think we will\n",
    "    return money\n",
    "\n",
    "convert_money_to_value('$99,000,000')"
   ]
  },
  {
   "cell_type": "code",
   "execution_count": 27,
   "metadata": {},
   "outputs": [
    {
     "data": {
      "text/html": [
       "<div>\n",
       "<style scoped>\n",
       "    .dataframe tbody tr th:only-of-type {\n",
       "        vertical-align: middle;\n",
       "    }\n",
       "\n",
       "    .dataframe tbody tr th {\n",
       "        vertical-align: top;\n",
       "    }\n",
       "\n",
       "    .dataframe thead th {\n",
       "        text-align: right;\n",
       "    }\n",
       "</style>\n",
       "<table border=\"1\" class=\"dataframe\">\n",
       "  <thead>\n",
       "    <tr style=\"text-align: right;\">\n",
       "      <th></th>\n",
       "      <th>id</th>\n",
       "      <th>release_date</th>\n",
       "      <th>movie</th>\n",
       "      <th>prod_budget_int</th>\n",
       "      <th>dom_gross_int</th>\n",
       "      <th>ww_gross_int</th>\n",
       "    </tr>\n",
       "  </thead>\n",
       "  <tbody>\n",
       "    <tr>\n",
       "      <th>0</th>\n",
       "      <td>1</td>\n",
       "      <td>Dec 18, 2009</td>\n",
       "      <td>Avatar</td>\n",
       "      <td>425000000</td>\n",
       "      <td>760507625</td>\n",
       "      <td>2776345279</td>\n",
       "    </tr>\n",
       "    <tr>\n",
       "      <th>1</th>\n",
       "      <td>2</td>\n",
       "      <td>May 20, 2011</td>\n",
       "      <td>Pirates of the Caribbean: On Stranger Tides</td>\n",
       "      <td>410600000</td>\n",
       "      <td>241063875</td>\n",
       "      <td>1045663875</td>\n",
       "    </tr>\n",
       "    <tr>\n",
       "      <th>2</th>\n",
       "      <td>3</td>\n",
       "      <td>Jun 7, 2019</td>\n",
       "      <td>Dark Phoenix</td>\n",
       "      <td>350000000</td>\n",
       "      <td>42762350</td>\n",
       "      <td>149762350</td>\n",
       "    </tr>\n",
       "    <tr>\n",
       "      <th>3</th>\n",
       "      <td>4</td>\n",
       "      <td>May 1, 2015</td>\n",
       "      <td>Avengers: Age of Ultron</td>\n",
       "      <td>330600000</td>\n",
       "      <td>459005868</td>\n",
       "      <td>1403013963</td>\n",
       "    </tr>\n",
       "    <tr>\n",
       "      <th>4</th>\n",
       "      <td>5</td>\n",
       "      <td>Dec 15, 2017</td>\n",
       "      <td>Star Wars Ep. VIII: The Last Jedi</td>\n",
       "      <td>317000000</td>\n",
       "      <td>620181382</td>\n",
       "      <td>1316721747</td>\n",
       "    </tr>\n",
       "  </tbody>\n",
       "</table>\n",
       "</div>"
      ],
      "text/plain": [
       "   id  release_date                                        movie  \\\n",
       "0   1  Dec 18, 2009                                       Avatar   \n",
       "1   2  May 20, 2011  Pirates of the Caribbean: On Stranger Tides   \n",
       "2   3   Jun 7, 2019                                 Dark Phoenix   \n",
       "3   4   May 1, 2015                      Avengers: Age of Ultron   \n",
       "4   5  Dec 15, 2017            Star Wars Ep. VIII: The Last Jedi   \n",
       "\n",
       "   prod_budget_int  dom_gross_int  ww_gross_int  \n",
       "0        425000000      760507625    2776345279  \n",
       "1        410600000      241063875    1045663875  \n",
       "2        350000000       42762350     149762350  \n",
       "3        330600000      459005868    1403013963  \n",
       "4        317000000      620181382    1316721747  "
      ]
     },
     "execution_count": 27,
     "metadata": {},
     "output_type": "execute_result"
    }
   ],
   "source": [
    "#Only run once***\n",
    "#apply lambda function on money columns\n",
    "df_tn['prod_budget_int'] = df_tn.apply(lambda x: convert_money_to_value(x['production_budget']), axis=1)\n",
    "df_tn['dom_gross_int'] = df_tn.apply(lambda x: convert_money_to_value(x['domestic_gross']), axis=1)\n",
    "df_tn['ww_gross_int'] = df_tn.apply(lambda x: convert_money_to_value(x['worldwide_gross']), axis=1)\n",
    "df_tn.drop(columns = ['production_budget', 'domestic_gross', 'worldwide_gross'], inplace=True)\n",
    "df_tn.head()"
   ]
  },
  {
   "cell_type": "markdown",
   "metadata": {},
   "source": [
    "For the time being, let's limit our analysis to the most likely profit value globally in order to keep things simple."
   ]
  },
  {
   "cell_type": "code",
   "execution_count": 28,
   "metadata": {},
   "outputs": [
    {
     "data": {
      "text/html": [
       "<div>\n",
       "<style scoped>\n",
       "    .dataframe tbody tr th:only-of-type {\n",
       "        vertical-align: middle;\n",
       "    }\n",
       "\n",
       "    .dataframe tbody tr th {\n",
       "        vertical-align: top;\n",
       "    }\n",
       "\n",
       "    .dataframe thead th {\n",
       "        text-align: right;\n",
       "    }\n",
       "</style>\n",
       "<table border=\"1\" class=\"dataframe\">\n",
       "  <thead>\n",
       "    <tr style=\"text-align: right;\">\n",
       "      <th></th>\n",
       "      <th>id</th>\n",
       "      <th>release_date</th>\n",
       "      <th>movie</th>\n",
       "      <th>prod_budget_int</th>\n",
       "      <th>dom_gross_int</th>\n",
       "      <th>ww_gross_int</th>\n",
       "      <th>ww_profit</th>\n",
       "    </tr>\n",
       "  </thead>\n",
       "  <tbody>\n",
       "    <tr>\n",
       "      <th>0</th>\n",
       "      <td>1</td>\n",
       "      <td>Dec 18, 2009</td>\n",
       "      <td>Avatar</td>\n",
       "      <td>425000000</td>\n",
       "      <td>760507625</td>\n",
       "      <td>2776345279</td>\n",
       "      <td>2351345279</td>\n",
       "    </tr>\n",
       "    <tr>\n",
       "      <th>1</th>\n",
       "      <td>2</td>\n",
       "      <td>May 20, 2011</td>\n",
       "      <td>Pirates of the Caribbean: On Stranger Tides</td>\n",
       "      <td>410600000</td>\n",
       "      <td>241063875</td>\n",
       "      <td>1045663875</td>\n",
       "      <td>635063875</td>\n",
       "    </tr>\n",
       "    <tr>\n",
       "      <th>2</th>\n",
       "      <td>3</td>\n",
       "      <td>Jun 7, 2019</td>\n",
       "      <td>Dark Phoenix</td>\n",
       "      <td>350000000</td>\n",
       "      <td>42762350</td>\n",
       "      <td>149762350</td>\n",
       "      <td>-200237650</td>\n",
       "    </tr>\n",
       "    <tr>\n",
       "      <th>3</th>\n",
       "      <td>4</td>\n",
       "      <td>May 1, 2015</td>\n",
       "      <td>Avengers: Age of Ultron</td>\n",
       "      <td>330600000</td>\n",
       "      <td>459005868</td>\n",
       "      <td>1403013963</td>\n",
       "      <td>1072413963</td>\n",
       "    </tr>\n",
       "    <tr>\n",
       "      <th>4</th>\n",
       "      <td>5</td>\n",
       "      <td>Dec 15, 2017</td>\n",
       "      <td>Star Wars Ep. VIII: The Last Jedi</td>\n",
       "      <td>317000000</td>\n",
       "      <td>620181382</td>\n",
       "      <td>1316721747</td>\n",
       "      <td>999721747</td>\n",
       "    </tr>\n",
       "  </tbody>\n",
       "</table>\n",
       "</div>"
      ],
      "text/plain": [
       "   id  release_date                                        movie  \\\n",
       "0   1  Dec 18, 2009                                       Avatar   \n",
       "1   2  May 20, 2011  Pirates of the Caribbean: On Stranger Tides   \n",
       "2   3   Jun 7, 2019                                 Dark Phoenix   \n",
       "3   4   May 1, 2015                      Avengers: Age of Ultron   \n",
       "4   5  Dec 15, 2017            Star Wars Ep. VIII: The Last Jedi   \n",
       "\n",
       "   prod_budget_int  dom_gross_int  ww_gross_int   ww_profit  \n",
       "0        425000000      760507625    2776345279  2351345279  \n",
       "1        410600000      241063875    1045663875   635063875  \n",
       "2        350000000       42762350     149762350  -200237650  \n",
       "3        330600000      459005868    1403013963  1072413963  \n",
       "4        317000000      620181382    1316721747   999721747  "
      ]
     },
     "execution_count": 28,
     "metadata": {},
     "output_type": "execute_result"
    }
   ],
   "source": [
    "df_tn['ww_profit'] = df_tn['ww_gross_int'] - df_tn['prod_budget_int']\n",
    "df_tn.head()"
   ]
  },
  {
   "cell_type": "markdown",
   "metadata": {},
   "source": [
    "We currently have all the information required to determine whether higher-budget films are more likely to experience financial losses. This would provide us with some crucial information regarding possible risks to a movie's budget. Let's see it in picture form.\n"
   ]
  },
  {
   "cell_type": "code",
   "execution_count": 29,
   "metadata": {},
   "outputs": [
    {
     "data": {
      "image/png": "[encoded data removed]",
      "text/plain": [
       "<Figure size 640x480 with 1 Axes>"
      ]
     },
     "metadata": {},
     "output_type": "display_data"
    }
   ],
   "source": [
    "#Budget vs Profit\n",
    "sns.scatterplot(data=df_tn, x=\"prod_budget_int\", y=\"ww_profit\");"
   ]
  },
  {
   "cell_type": "markdown",
   "metadata": {},
   "source": [
    "There seems to be a general positive correlation here; otherwise, there would be no incentive to make bigger, better films. It makes sense to do this. Keep in mind that there are quite a few values below the profit line (x axis)."
   ]
  },
  {
   "cell_type": "code",
   "execution_count": 30,
   "metadata": {},
   "outputs": [
    {
     "data": {
      "image/png": "[encoded data removed]",
      "text/plain": [
       "<Figure size 640x480 with 1 Axes>"
      ]
     },
     "metadata": {},
     "output_type": "display_data"
    }
   ],
   "source": [
    "sns.histplot(data=df_tn, x=\"prod_budget_int\");"
   ]
  },
  {
   "cell_type": "code",
   "execution_count": 31,
   "metadata": {},
   "outputs": [],
   "source": [
    "#a method that finds our profit percentage- taking in a dataframe, lower limit value, and upper limit value.\n",
    "def find_profit_percentage(dataframe, lower_limit=0, upper_limit=1e100): #set to zero and an extremely large number, should do the trick for this\n",
    "    temp_df_total = dataframe[(dataframe['prod_budget_int'] <= upper_limit) & (dataframe['prod_budget_int'] >= lower_limit)] #impose conditionals for upper and lower\n",
    "    temp_df_profit = temp_df_total[temp_df_total['ww_profit'] > 0] #profitable if positive number here\n",
    "    x = temp_df_profit.shape[0]/temp_df_total.shape[0] #divide the number of rows in our filtered dataframe by number of rows with positive values in that dataframe\n",
    "    return x*100 #put into percentage"
   ]
  },
  {
   "cell_type": "code",
   "execution_count": 32,
   "metadata": {},
   "outputs": [],
   "source": [
    "bins= ['<5m', '5-10m', '10-20m', '20-50m', '50m-200m', '200m+']\n",
    "percentages_with_profits = []\n",
    "percentages_with_profits.append(find_profit_percentage(df_tn, upper_limit=5000000))\n",
    "percentages_with_profits.append(find_profit_percentage(df_tn, lower_limit=5000000, upper_limit=10000000))\n",
    "percentages_with_profits.append(find_profit_percentage(df_tn, lower_limit=10000000, upper_limit=20000000))\n",
    "percentages_with_profits.append(find_profit_percentage(df_tn, lower_limit=20000000, upper_limit=50000000))\n",
    "percentages_with_profits.append(find_profit_percentage(df_tn, lower_limit=50000000, upper_limit=200000000))\n",
    "percentages_with_profits.append(find_profit_percentage(df_tn, lower_limit=20000000))"
   ]
  },
  {
   "cell_type": "code",
   "execution_count": 33,
   "metadata": {},
   "outputs": [
    {
     "data": {
      "image/png": "[encoded data removed]",
      "text/plain": [
       "<Figure size 1200x800 with 1 Axes>"
      ]
     },
     "metadata": {},
     "output_type": "display_data"
    }
   ],
   "source": [
    "fig, ax = plt.subplots(figsize=(12, 8))\n",
    "ax = sns.barplot(x= bins, y=percentages_with_profits, palette=\"Blues_d\")\n",
    "ax.set_title(\"Profitability per Budget\", fontsize= 25)\n",
    "ax.set_xlabel(\"Budget in $Millions\", fontsize=15)\n",
    "ax.set_ylabel(\"% of Profitable Movies\", fontsize=15);"
   ]
  },
  {
   "cell_type": "markdown",
   "metadata": {},
   "source": [
    "This is very good. This seems to be trending upward, which makes sense. Higher budgeted films are more likely to be profitable overall—to a certain extent. There is a falloff, with the peak located between 50 and 200 meters. As a result of the wide range, let us examine this particular range in more detail to see if we can use the data to determine the ideal budget range of $10 million for our film.\n",
    "\n",
    "A better approach will be required. Earlier, we had to call our previous method multiple times and enter a large number. Now, let's try to automate that process by allowing our method to run multiple times."
   ]
  },
  {
   "cell_type": "code",
   "execution_count": 34,
   "metadata": {},
   "outputs": [],
   "source": [
    "def find_profit_percentage_equal_limit_increase(dataframe, starting_lower_limit, increment_value, max_iterations):\n",
    "    percentages_with_profits = []\n",
    "    num_iterations = 0\n",
    "    current_lower_limit = starting_lower_limit\n",
    "    \n",
    "    while num_iterations < max_iterations:\n",
    "        num_iterations+=1 #loop structure for #iterations parameter\n",
    "        upper_limit = current_lower_limit + increment_value #updating our upper_limit based on the increment_value param\n",
    "        temp_df_total = dataframe[(dataframe['prod_budget_int'] <= upper_limit) & (dataframe['prod_budget_int'] >= current_lower_limit)]\n",
    "        temp_df_profit = temp_df_total[temp_df_total['ww_profit'] > 0]\n",
    "        \n",
    "        denominator = temp_df_total.shape[0]\n",
    "        if temp_df_total.shape[0] == 0: #avoiding division by zero\n",
    "            denominator = 1\n",
    "        pct = temp_df_profit.shape[0]/denominator #dividing # of profit entries by total # of entries\n",
    "        percentages_with_profits.append(pct*100) #percentage value\n",
    "        \n",
    "        current_lower_limit = upper_limit #setting new lower limit for next loop, after calcs have already taken place\n",
    "    \n",
    "    return percentages_with_profits"
   ]
  },
  {
   "cell_type": "code",
   "execution_count": 35,
   "metadata": {},
   "outputs": [
    {
     "data": {
      "image/png": "[encoded data removed]",
      "text/plain": [
       "<Figure size 1200x800 with 1 Axes>"
      ]
     },
     "metadata": {},
     "output_type": "display_data"
    }
   ],
   "source": [
    "fifty_plus_bins= np.arange(50000000,200000000,10000000)\n",
    "fifty_plus_bins_percentages = find_profit_percentage_equal_limit_increase(df_tn, 50000000, 10000000, 15)\n",
    "fig, ax = plt.subplots(figsize=(12, 8))\n",
    "ax = sns.barplot(x= fifty_plus_bins/1000000, y=fifty_plus_bins_percentages, palette=\"Blues_d\")\n",
    "ax.set_title(\"Profitability per Budget ($50-200 million)\", fontsize= 25)\n",
    "ax.set_xlabel(\"Budget in $Millions\", fontsize=15)\n",
    "ax.set_ylabel(\"% of Profitable Movies\", fontsize=15);"
   ]
  },
  {
   "cell_type": "markdown",
   "metadata": {},
   "source": [
    "Most Profitable Genre"
   ]
  },
  {
   "cell_type": "code",
   "execution_count": 36,
   "metadata": {},
   "outputs": [
    {
     "data": {
      "text/html": [
       "<div>\n",
       "<style scoped>\n",
       "    .dataframe tbody tr th:only-of-type {\n",
       "        vertical-align: middle;\n",
       "    }\n",
       "\n",
       "    .dataframe tbody tr th {\n",
       "        vertical-align: top;\n",
       "    }\n",
       "\n",
       "    .dataframe thead th {\n",
       "        text-align: right;\n",
       "    }\n",
       "</style>\n",
       "<table border=\"1\" class=\"dataframe\">\n",
       "  <thead>\n",
       "    <tr style=\"text-align: right;\">\n",
       "      <th></th>\n",
       "      <th>id</th>\n",
       "      <th>release_date</th>\n",
       "      <th>movie</th>\n",
       "      <th>prod_budget_int</th>\n",
       "      <th>dom_gross_int</th>\n",
       "      <th>ww_gross_int</th>\n",
       "      <th>ww_profit</th>\n",
       "    </tr>\n",
       "  </thead>\n",
       "  <tbody>\n",
       "    <tr>\n",
       "      <th>0</th>\n",
       "      <td>1</td>\n",
       "      <td>Dec 18, 2009</td>\n",
       "      <td>Avatar</td>\n",
       "      <td>425000000</td>\n",
       "      <td>760507625</td>\n",
       "      <td>2776345279</td>\n",
       "      <td>2351345279</td>\n",
       "    </tr>\n",
       "    <tr>\n",
       "      <th>1</th>\n",
       "      <td>2</td>\n",
       "      <td>May 20, 2011</td>\n",
       "      <td>Pirates of the Caribbean: On Stranger Tides</td>\n",
       "      <td>410600000</td>\n",
       "      <td>241063875</td>\n",
       "      <td>1045663875</td>\n",
       "      <td>635063875</td>\n",
       "    </tr>\n",
       "    <tr>\n",
       "      <th>2</th>\n",
       "      <td>3</td>\n",
       "      <td>Jun 7, 2019</td>\n",
       "      <td>Dark Phoenix</td>\n",
       "      <td>350000000</td>\n",
       "      <td>42762350</td>\n",
       "      <td>149762350</td>\n",
       "      <td>-200237650</td>\n",
       "    </tr>\n",
       "    <tr>\n",
       "      <th>3</th>\n",
       "      <td>4</td>\n",
       "      <td>May 1, 2015</td>\n",
       "      <td>Avengers: Age of Ultron</td>\n",
       "      <td>330600000</td>\n",
       "      <td>459005868</td>\n",
       "      <td>1403013963</td>\n",
       "      <td>1072413963</td>\n",
       "    </tr>\n",
       "    <tr>\n",
       "      <th>4</th>\n",
       "      <td>5</td>\n",
       "      <td>Dec 15, 2017</td>\n",
       "      <td>Star Wars Ep. VIII: The Last Jedi</td>\n",
       "      <td>317000000</td>\n",
       "      <td>620181382</td>\n",
       "      <td>1316721747</td>\n",
       "      <td>999721747</td>\n",
       "    </tr>\n",
       "  </tbody>\n",
       "</table>\n",
       "</div>"
      ],
      "text/plain": [
       "   id  release_date                                        movie  \\\n",
       "0   1  Dec 18, 2009                                       Avatar   \n",
       "1   2  May 20, 2011  Pirates of the Caribbean: On Stranger Tides   \n",
       "2   3   Jun 7, 2019                                 Dark Phoenix   \n",
       "3   4   May 1, 2015                      Avengers: Age of Ultron   \n",
       "4   5  Dec 15, 2017            Star Wars Ep. VIII: The Last Jedi   \n",
       "\n",
       "   prod_budget_int  dom_gross_int  ww_gross_int   ww_profit  \n",
       "0        425000000      760507625    2776345279  2351345279  \n",
       "1        410600000      241063875    1045663875   635063875  \n",
       "2        350000000       42762350     149762350  -200237650  \n",
       "3        330600000      459005868    1403013963  1072413963  \n",
       "4        317000000      620181382    1316721747   999721747  "
      ]
     },
     "execution_count": 36,
     "metadata": {},
     "output_type": "execute_result"
    }
   ],
   "source": [
    "df_tn.head()"
   ]
  },
  {
   "cell_type": "code",
   "execution_count": 37,
   "metadata": {},
   "outputs": [
    {
     "data": {
      "text/html": [
       "<div>\n",
       "<style scoped>\n",
       "    .dataframe tbody tr th:only-of-type {\n",
       "        vertical-align: middle;\n",
       "    }\n",
       "\n",
       "    .dataframe tbody tr th {\n",
       "        vertical-align: top;\n",
       "    }\n",
       "\n",
       "    .dataframe thead th {\n",
       "        text-align: right;\n",
       "    }\n",
       "</style>\n",
       "<table border=\"1\" class=\"dataframe\">\n",
       "  <thead>\n",
       "    <tr style=\"text-align: right;\">\n",
       "      <th></th>\n",
       "      <th>id</th>\n",
       "      <th>release_date</th>\n",
       "      <th>movie</th>\n",
       "      <th>prod_budget_int</th>\n",
       "      <th>dom_gross_int</th>\n",
       "      <th>ww_gross_int</th>\n",
       "      <th>ww_profit</th>\n",
       "    </tr>\n",
       "  </thead>\n",
       "  <tbody>\n",
       "    <tr>\n",
       "      <th>0</th>\n",
       "      <td>1</td>\n",
       "      <td>Dec 18, 2009</td>\n",
       "      <td>avatar</td>\n",
       "      <td>425000000</td>\n",
       "      <td>760507625</td>\n",
       "      <td>2776345279</td>\n",
       "      <td>2351345279</td>\n",
       "    </tr>\n",
       "    <tr>\n",
       "      <th>1</th>\n",
       "      <td>2</td>\n",
       "      <td>May 20, 2011</td>\n",
       "      <td>pirates of the caribbean on stranger tides</td>\n",
       "      <td>410600000</td>\n",
       "      <td>241063875</td>\n",
       "      <td>1045663875</td>\n",
       "      <td>635063875</td>\n",
       "    </tr>\n",
       "    <tr>\n",
       "      <th>2</th>\n",
       "      <td>3</td>\n",
       "      <td>Jun 7, 2019</td>\n",
       "      <td>dark phoenix</td>\n",
       "      <td>350000000</td>\n",
       "      <td>42762350</td>\n",
       "      <td>149762350</td>\n",
       "      <td>-200237650</td>\n",
       "    </tr>\n",
       "    <tr>\n",
       "      <th>3</th>\n",
       "      <td>4</td>\n",
       "      <td>May 1, 2015</td>\n",
       "      <td>avengers age of ultron</td>\n",
       "      <td>330600000</td>\n",
       "      <td>459005868</td>\n",
       "      <td>1403013963</td>\n",
       "      <td>1072413963</td>\n",
       "    </tr>\n",
       "    <tr>\n",
       "      <th>4</th>\n",
       "      <td>5</td>\n",
       "      <td>Dec 15, 2017</td>\n",
       "      <td>star wars ep viii the last jedi</td>\n",
       "      <td>317000000</td>\n",
       "      <td>620181382</td>\n",
       "      <td>1316721747</td>\n",
       "      <td>999721747</td>\n",
       "    </tr>\n",
       "  </tbody>\n",
       "</table>\n",
       "</div>"
      ],
      "text/plain": [
       "   id  release_date                                       movie  \\\n",
       "0   1  Dec 18, 2009                                      avatar   \n",
       "1   2  May 20, 2011  pirates of the caribbean on stranger tides   \n",
       "2   3   Jun 7, 2019                                dark phoenix   \n",
       "3   4   May 1, 2015                      avengers age of ultron   \n",
       "4   5  Dec 15, 2017             star wars ep viii the last jedi   \n",
       "\n",
       "   prod_budget_int  dom_gross_int  ww_gross_int   ww_profit  \n",
       "0        425000000      760507625    2776345279  2351345279  \n",
       "1        410600000      241063875    1045663875   635063875  \n",
       "2        350000000       42762350     149762350  -200237650  \n",
       "3        330600000      459005868    1403013963  1072413963  \n",
       "4        317000000      620181382    1316721747   999721747  "
      ]
     },
     "execution_count": 37,
     "metadata": {},
     "output_type": "execute_result"
    }
   ],
   "source": [
    "df_tn_clean = df_tn.copy() #copy because we loaded this a while ago\n",
    "\n",
    "#cleaning titles with these methods: strip, lower, no . or : or '\n",
    "#we will need to apply the same techniques to our IMDB table to join on titles correctly\n",
    "df_tn_clean['movie'] = df_tn_clean.movie.str.strip()\n",
    "df_tn_clean['movie'] = df_tn_clean.movie.str.lower()\n",
    "df_tn_clean['movie'] = df_tn_clean.movie.str.replace('.','').str.replace(':','').str.replace(\"'\",'')\n",
    "df_tn_clean.head()"
   ]
  },
  {
   "cell_type": "code",
   "execution_count": 39,
   "metadata": {},
   "outputs": [
    {
     "data": {
      "text/html": [
       "<div>\n",
       "<style scoped>\n",
       "    .dataframe tbody tr th:only-of-type {\n",
       "        vertical-align: middle;\n",
       "    }\n",
       "\n",
       "    .dataframe tbody tr th {\n",
       "        vertical-align: top;\n",
       "    }\n",
       "\n",
       "    .dataframe thead th {\n",
       "        text-align: right;\n",
       "    }\n",
       "</style>\n",
       "<table border=\"1\" class=\"dataframe\">\n",
       "  <thead>\n",
       "    <tr style=\"text-align: right;\">\n",
       "      <th></th>\n",
       "      <th>Unnamed: 0</th>\n",
       "      <th>genre_ids</th>\n",
       "      <th>id</th>\n",
       "      <th>original_language</th>\n",
       "      <th>original_title</th>\n",
       "      <th>popularity</th>\n",
       "      <th>release_date</th>\n",
       "      <th>title</th>\n",
       "      <th>vote_average</th>\n",
       "      <th>vote_count</th>\n",
       "    </tr>\n",
       "  </thead>\n",
       "  <tbody>\n",
       "    <tr>\n",
       "      <th>0</th>\n",
       "      <td>0</td>\n",
       "      <td>[12, 14, 10751]</td>\n",
       "      <td>12444</td>\n",
       "      <td>en</td>\n",
       "      <td>Harry Potter and the Deathly Hallows: Part 1</td>\n",
       "      <td>33.533</td>\n",
       "      <td>2010-11-19</td>\n",
       "      <td>Harry Potter and the Deathly Hallows: Part 1</td>\n",
       "      <td>7.7</td>\n",
       "      <td>10788</td>\n",
       "    </tr>\n",
       "    <tr>\n",
       "      <th>1</th>\n",
       "      <td>1</td>\n",
       "      <td>[14, 12, 16, 10751]</td>\n",
       "      <td>10191</td>\n",
       "      <td>en</td>\n",
       "      <td>How to Train Your Dragon</td>\n",
       "      <td>28.734</td>\n",
       "      <td>2010-03-26</td>\n",
       "      <td>How to Train Your Dragon</td>\n",
       "      <td>7.7</td>\n",
       "      <td>7610</td>\n",
       "    </tr>\n",
       "    <tr>\n",
       "      <th>2</th>\n",
       "      <td>2</td>\n",
       "      <td>[12, 28, 878]</td>\n",
       "      <td>10138</td>\n",
       "      <td>en</td>\n",
       "      <td>Iron Man 2</td>\n",
       "      <td>28.515</td>\n",
       "      <td>2010-05-07</td>\n",
       "      <td>Iron Man 2</td>\n",
       "      <td>6.8</td>\n",
       "      <td>12368</td>\n",
       "    </tr>\n",
       "    <tr>\n",
       "      <th>3</th>\n",
       "      <td>3</td>\n",
       "      <td>[16, 35, 10751]</td>\n",
       "      <td>862</td>\n",
       "      <td>en</td>\n",
       "      <td>Toy Story</td>\n",
       "      <td>28.005</td>\n",
       "      <td>1995-11-22</td>\n",
       "      <td>Toy Story</td>\n",
       "      <td>7.9</td>\n",
       "      <td>10174</td>\n",
       "    </tr>\n",
       "    <tr>\n",
       "      <th>4</th>\n",
       "      <td>4</td>\n",
       "      <td>[28, 878, 12]</td>\n",
       "      <td>27205</td>\n",
       "      <td>en</td>\n",
       "      <td>Inception</td>\n",
       "      <td>27.920</td>\n",
       "      <td>2010-07-16</td>\n",
       "      <td>Inception</td>\n",
       "      <td>8.3</td>\n",
       "      <td>22186</td>\n",
       "    </tr>\n",
       "  </tbody>\n",
       "</table>\n",
       "</div>"
      ],
      "text/plain": [
       "   Unnamed: 0            genre_ids     id original_language  \\\n",
       "0           0      [12, 14, 10751]  12444                en   \n",
       "1           1  [14, 12, 16, 10751]  10191                en   \n",
       "2           2        [12, 28, 878]  10138                en   \n",
       "3           3      [16, 35, 10751]    862                en   \n",
       "4           4        [28, 878, 12]  27205                en   \n",
       "\n",
       "                                 original_title  popularity release_date  \\\n",
       "0  Harry Potter and the Deathly Hallows: Part 1      33.533   2010-11-19   \n",
       "1                      How to Train Your Dragon      28.734   2010-03-26   \n",
       "2                                    Iron Man 2      28.515   2010-05-07   \n",
       "3                                     Toy Story      28.005   1995-11-22   \n",
       "4                                     Inception      27.920   2010-07-16   \n",
       "\n",
       "                                          title  vote_average  vote_count  \n",
       "0  Harry Potter and the Deathly Hallows: Part 1           7.7       10788  \n",
       "1                      How to Train Your Dragon           7.7        7610  \n",
       "2                                    Iron Man 2           6.8       12368  \n",
       "3                                     Toy Story           7.9       10174  \n",
       "4                                     Inception           8.3       22186  "
      ]
     },
     "metadata": {},
     "output_type": "display_data"
    },
    {
     "data": {
      "text/plain": [
       "26517"
      ]
     },
     "metadata": {},
     "output_type": "display_data"
    }
   ],
   "source": [
    "df_imdb_title =(r\"C:\\Users\\ADMIN\\OneDrive\\Desktop\\LEARN DSC-PHASE 1\\tmdb.movies.csv\\tmdb.movies.csv\")\n",
    "df_imdb = pd.read_csv(df_imdb_title)\n",
    "display(df_imdb.head())\n",
    "display(df_imdb.shape[0])"
   ]
  },
  {
   "cell_type": "code",
   "execution_count": 46,
   "metadata": {},
   "outputs": [
    {
     "data": {
      "text/html": [
       "<div>\n",
       "<style scoped>\n",
       "    .dataframe tbody tr th:only-of-type {\n",
       "        vertical-align: middle;\n",
       "    }\n",
       "\n",
       "    .dataframe tbody tr th {\n",
       "        vertical-align: top;\n",
       "    }\n",
       "\n",
       "    .dataframe thead th {\n",
       "        text-align: right;\n",
       "    }\n",
       "</style>\n",
       "<table border=\"1\" class=\"dataframe\">\n",
       "  <thead>\n",
       "    <tr style=\"text-align: right;\">\n",
       "      <th></th>\n",
       "      <th>Unnamed: 0</th>\n",
       "      <th>genre_ids</th>\n",
       "      <th>id</th>\n",
       "      <th>original_language</th>\n",
       "      <th>original_title</th>\n",
       "      <th>popularity</th>\n",
       "      <th>release_date</th>\n",
       "      <th>title</th>\n",
       "      <th>vote_average</th>\n",
       "      <th>vote_count</th>\n",
       "      <th>genres_Ids</th>\n",
       "    </tr>\n",
       "  </thead>\n",
       "  <tbody>\n",
       "    <tr>\n",
       "      <th>0</th>\n",
       "      <td>0</td>\n",
       "      <td>[12, 14, 10751]</td>\n",
       "      <td>12444</td>\n",
       "      <td>en</td>\n",
       "      <td>Harry Potter and the Deathly Hallows: Part 1</td>\n",
       "      <td>33.533</td>\n",
       "      <td>2010-11-19</td>\n",
       "      <td>Harry Potter and the Deathly Hallows: Part 1</td>\n",
       "      <td>7.7</td>\n",
       "      <td>10788</td>\n",
       "      <td>[12, 14, 10751]</td>\n",
       "    </tr>\n",
       "    <tr>\n",
       "      <th>1</th>\n",
       "      <td>1</td>\n",
       "      <td>[14, 12, 16, 10751]</td>\n",
       "      <td>10191</td>\n",
       "      <td>en</td>\n",
       "      <td>How to Train Your Dragon</td>\n",
       "      <td>28.734</td>\n",
       "      <td>2010-03-26</td>\n",
       "      <td>How to Train Your Dragon</td>\n",
       "      <td>7.7</td>\n",
       "      <td>7610</td>\n",
       "      <td>[14, 12, 16, 10751]</td>\n",
       "    </tr>\n",
       "    <tr>\n",
       "      <th>2</th>\n",
       "      <td>2</td>\n",
       "      <td>[12, 28, 878]</td>\n",
       "      <td>10138</td>\n",
       "      <td>en</td>\n",
       "      <td>Iron Man 2</td>\n",
       "      <td>28.515</td>\n",
       "      <td>2010-05-07</td>\n",
       "      <td>Iron Man 2</td>\n",
       "      <td>6.8</td>\n",
       "      <td>12368</td>\n",
       "      <td>[12, 28, 878]</td>\n",
       "    </tr>\n",
       "    <tr>\n",
       "      <th>3</th>\n",
       "      <td>3</td>\n",
       "      <td>[16, 35, 10751]</td>\n",
       "      <td>862</td>\n",
       "      <td>en</td>\n",
       "      <td>Toy Story</td>\n",
       "      <td>28.005</td>\n",
       "      <td>1995-11-22</td>\n",
       "      <td>Toy Story</td>\n",
       "      <td>7.9</td>\n",
       "      <td>10174</td>\n",
       "      <td>[16, 35, 10751]</td>\n",
       "    </tr>\n",
       "    <tr>\n",
       "      <th>4</th>\n",
       "      <td>4</td>\n",
       "      <td>[28, 878, 12]</td>\n",
       "      <td>27205</td>\n",
       "      <td>en</td>\n",
       "      <td>Inception</td>\n",
       "      <td>27.920</td>\n",
       "      <td>2010-07-16</td>\n",
       "      <td>Inception</td>\n",
       "      <td>8.3</td>\n",
       "      <td>22186</td>\n",
       "      <td>[28, 878, 12]</td>\n",
       "    </tr>\n",
       "  </tbody>\n",
       "</table>\n",
       "</div>"
      ],
      "text/plain": [
       "   Unnamed: 0            genre_ids     id original_language  \\\n",
       "0           0      [12, 14, 10751]  12444                en   \n",
       "1           1  [14, 12, 16, 10751]  10191                en   \n",
       "2           2        [12, 28, 878]  10138                en   \n",
       "3           3      [16, 35, 10751]    862                en   \n",
       "4           4        [28, 878, 12]  27205                en   \n",
       "\n",
       "                                 original_title  popularity release_date  \\\n",
       "0  Harry Potter and the Deathly Hallows: Part 1      33.533   2010-11-19   \n",
       "1                      How to Train Your Dragon      28.734   2010-03-26   \n",
       "2                                    Iron Man 2      28.515   2010-05-07   \n",
       "3                                     Toy Story      28.005   1995-11-22   \n",
       "4                                     Inception      27.920   2010-07-16   \n",
       "\n",
       "                                          title  vote_average  vote_count  \\\n",
       "0  Harry Potter and the Deathly Hallows: Part 1           7.7       10788   \n",
       "1                      How to Train Your Dragon           7.7        7610   \n",
       "2                                    Iron Man 2           6.8       12368   \n",
       "3                                     Toy Story           7.9       10174   \n",
       "4                                     Inception           8.3       22186   \n",
       "\n",
       "            genres_Ids  \n",
       "0      [12, 14, 10751]  \n",
       "1  [14, 12, 16, 10751]  \n",
       "2        [12, 28, 878]  \n",
       "3      [16, 35, 10751]  \n",
       "4        [28, 878, 12]  "
      ]
     },
     "execution_count": 46,
     "metadata": {},
     "output_type": "execute_result"
    }
   ],
   "source": [
    "#cleaning in the same ways\n",
    "df_imdb['genres_Ids'] = df_imdb.genre_ids.str.strip()\n",
    "df_imdb['genres_Ids'] = df_imdb.genre_ids.str.lower()\n",
    "df_imdb['genres_Ids'] = df_imdb.genre_ids.str.replace('.','').str.replace(':','').str.replace(\"'\",'')\n",
    "\n",
    "#drop nans before we do our genre calc\n",
    "df_imdb = df_imdb.dropna(subset=['id'])\n",
    "df_imdb['id'] = df_imdb['id'].astype(str) \n",
    "df_imdb.head()"
   ]
  },
  {
   "cell_type": "code",
   "execution_count": 47,
   "metadata": {},
   "outputs": [],
   "source": [
    "def get_all_unique_genres(dataframe, genre_col_name):\n",
    "    ## Get list of unique genres\n",
    "    # Join all the (unique) genres values into one big string\n",
    "    var = dataframe[genre_col_name].unique()\n",
    "    list_all_genres = ','.join(var)\n",
    "    # Get a set of all unique genres (no duplicates)\n",
    "    unique_genres = sorted(set(list_all_genres.split(',')))\n",
    "    return unique_genres"
   ]
  },
  {
   "cell_type": "code",
   "execution_count": 48,
   "metadata": {},
   "outputs": [],
   "source": [
    "def make_genre_columns(dataframe, genre_col_name='genres', drop_genres_col=True):\n",
    "    '''Creates a new DataFrame of a column for each genres from the genres column. \n",
    "    Input:\n",
    "        dataframe: Original DataFrame\n",
    "        genres_col_name: Name of the column of genres (values look like \"Action,Adventure\")\n",
    "        drop_genres_col: Flag to drop the original genres column\n",
    "    Returns:\n",
    "        A copy of the original DataFrame with a column for each genres from the genres column\n",
    "    '''\n",
    "    unique_genres = get_all_unique_genres(dataframe, genre_col_name)\n",
    "    \n",
    "    print(unique_genres)\n",
    "    ## Create new columns with the genres & populate with 0 & 1\n",
    "    # Make a safe copy\n",
    "    new_dataframe = dataframe.copy(deep=True)\n",
    "    for genre in unique_genres:\n",
    "        new_dataframe[genre] = new_dataframe[genre_col_name].map(lambda val: 1 if genre in val else 0)\n",
    "    # Drop the unused `genre_col_name` column\n",
    "    if drop_genres_col:\n",
    "        new_dataframe = new_dataframe.drop([genre_col_name], axis=1)\n",
    "    return new_dataframe"
   ]
  },
  {
   "cell_type": "code",
   "execution_count": 60,
   "metadata": {},
   "outputs": [
    {
     "ename": "KeyError",
     "evalue": "'genres'",
     "output_type": "error",
     "traceback": [
      "\u001b[1;31m---------------------------------------------------------------------------\u001b[0m",
      "\u001b[1;31mKeyError\u001b[0m                                  Traceback (most recent call last)",
      "File \u001b[1;32mc:\\ProgramData\\anaconda3\\Lib\\site-packages\\pandas\\core\\indexes\\base.py:3653\u001b[0m, in \u001b[0;36mIndex.get_loc\u001b[1;34m(self, key)\u001b[0m\n\u001b[0;32m   3652\u001b[0m \u001b[39mtry\u001b[39;00m:\n\u001b[1;32m-> 3653\u001b[0m     \u001b[39mreturn\u001b[39;00m \u001b[39mself\u001b[39m\u001b[39m.\u001b[39m_engine\u001b[39m.\u001b[39mget_loc(casted_key)\n\u001b[0;32m   3654\u001b[0m \u001b[39mexcept\u001b[39;00m \u001b[39mKeyError\u001b[39;00m \u001b[39mas\u001b[39;00m err:\n",
      "File \u001b[1;32mc:\\ProgramData\\anaconda3\\Lib\\site-packages\\pandas\\_libs\\index.pyx:147\u001b[0m, in \u001b[0;36mpandas._libs.index.IndexEngine.get_loc\u001b[1;34m()\u001b[0m\n",
      "File \u001b[1;32mc:\\ProgramData\\anaconda3\\Lib\\site-packages\\pandas\\_libs\\index.pyx:176\u001b[0m, in \u001b[0;36mpandas._libs.index.IndexEngine.get_loc\u001b[1;34m()\u001b[0m\n",
      "File \u001b[1;32mpandas\\_libs\\hashtable_class_helper.pxi:7080\u001b[0m, in \u001b[0;36mpandas._libs.hashtable.PyObjectHashTable.get_item\u001b[1;34m()\u001b[0m\n",
      "File \u001b[1;32mpandas\\_libs\\hashtable_class_helper.pxi:7088\u001b[0m, in \u001b[0;36mpandas._libs.hashtable.PyObjectHashTable.get_item\u001b[1;34m()\u001b[0m\n",
      "\u001b[1;31mKeyError\u001b[0m: 'genres'",
      "\nThe above exception was the direct cause of the following exception:\n",
      "\u001b[1;31mKeyError\u001b[0m                                  Traceback (most recent call last)",
      "\u001b[1;32mc:\\Users\\ADMIN\\OneDrive\\Desktop\\LEARN DSC-PHASE 1\\jupyter.ipynb Cell 57\u001b[0m line \u001b[0;36m1\n\u001b[1;32m----> <a href='vscode-notebook-cell:/c%3A/Users/ADMIN/OneDrive/Desktop/LEARN%20DSC-PHASE%201/jupyter.ipynb#Y161sZmlsZQ%3D%3D?line=0'>1</a>\u001b[0m df_imdb\u001b[39m=\u001b[39m make_genre_columns(df_imdb, genre_col_name\u001b[39m=\u001b[39m\u001b[39m'\u001b[39m\u001b[39mgenres\u001b[39m\u001b[39m'\u001b[39m, drop_genres_col\u001b[39m=\u001b[39m\u001b[39mFalse\u001b[39;00m)\n\u001b[0;32m      <a href='vscode-notebook-cell:/c%3A/Users/ADMIN/OneDrive/Desktop/LEARN%20DSC-PHASE%201/jupyter.ipynb#Y161sZmlsZQ%3D%3D?line=2'>3</a>\u001b[0m pd\u001b[39m.\u001b[39moptions\u001b[39m.\u001b[39mdisplay\u001b[39m.\u001b[39mmax_columns \u001b[39m=\u001b[39m \u001b[39m50\u001b[39m \u001b[39m#updating this for this table's 33 columns after the genre data to get the full picture\u001b[39;00m\n\u001b[0;32m      <a href='vscode-notebook-cell:/c%3A/Users/ADMIN/OneDrive/Desktop/LEARN%20DSC-PHASE%201/jupyter.ipynb#Y161sZmlsZQ%3D%3D?line=3'>4</a>\u001b[0m df_imdb\u001b[39m.\u001b[39mhead()\n",
      "\u001b[1;32mc:\\Users\\ADMIN\\OneDrive\\Desktop\\LEARN DSC-PHASE 1\\jupyter.ipynb Cell 57\u001b[0m line \u001b[0;36m1\n\u001b[0;32m      <a href='vscode-notebook-cell:/c%3A/Users/ADMIN/OneDrive/Desktop/LEARN%20DSC-PHASE%201/jupyter.ipynb#Y161sZmlsZQ%3D%3D?line=0'>1</a>\u001b[0m \u001b[39mdef\u001b[39;00m \u001b[39mmake_genre_columns\u001b[39m(dataframe, genre_col_name\u001b[39m=\u001b[39m\u001b[39m'\u001b[39m\u001b[39mgenres\u001b[39m\u001b[39m'\u001b[39m, drop_genres_col\u001b[39m=\u001b[39m\u001b[39mTrue\u001b[39;00m):\n\u001b[0;32m      <a href='vscode-notebook-cell:/c%3A/Users/ADMIN/OneDrive/Desktop/LEARN%20DSC-PHASE%201/jupyter.ipynb#Y161sZmlsZQ%3D%3D?line=1'>2</a>\u001b[0m \u001b[39m    \u001b[39m\u001b[39m'''Creates a new DataFrame of a column for each genres from the genres column. \u001b[39;00m\n\u001b[0;32m      <a href='vscode-notebook-cell:/c%3A/Users/ADMIN/OneDrive/Desktop/LEARN%20DSC-PHASE%201/jupyter.ipynb#Y161sZmlsZQ%3D%3D?line=2'>3</a>\u001b[0m \u001b[39m    Input:\u001b[39;00m\n\u001b[0;32m      <a href='vscode-notebook-cell:/c%3A/Users/ADMIN/OneDrive/Desktop/LEARN%20DSC-PHASE%201/jupyter.ipynb#Y161sZmlsZQ%3D%3D?line=3'>4</a>\u001b[0m \u001b[39m        dataframe: Original DataFrame\u001b[39;00m\n\u001b[1;32m   (...)\u001b[0m\n\u001b[0;32m      <a href='vscode-notebook-cell:/c%3A/Users/ADMIN/OneDrive/Desktop/LEARN%20DSC-PHASE%201/jupyter.ipynb#Y161sZmlsZQ%3D%3D?line=7'>8</a>\u001b[0m \u001b[39m        A copy of the original DataFrame with a column for each genres from the genres column\u001b[39;00m\n\u001b[0;32m      <a href='vscode-notebook-cell:/c%3A/Users/ADMIN/OneDrive/Desktop/LEARN%20DSC-PHASE%201/jupyter.ipynb#Y161sZmlsZQ%3D%3D?line=8'>9</a>\u001b[0m \u001b[39m    '''\u001b[39;00m\n\u001b[1;32m---> <a href='vscode-notebook-cell:/c%3A/Users/ADMIN/OneDrive/Desktop/LEARN%20DSC-PHASE%201/jupyter.ipynb#Y161sZmlsZQ%3D%3D?line=9'>10</a>\u001b[0m     unique_genres \u001b[39m=\u001b[39m get_all_unique_genres(dataframe, genre_col_name)\n\u001b[0;32m     <a href='vscode-notebook-cell:/c%3A/Users/ADMIN/OneDrive/Desktop/LEARN%20DSC-PHASE%201/jupyter.ipynb#Y161sZmlsZQ%3D%3D?line=11'>12</a>\u001b[0m     \u001b[39mprint\u001b[39m(unique_genres)\n\u001b[0;32m     <a href='vscode-notebook-cell:/c%3A/Users/ADMIN/OneDrive/Desktop/LEARN%20DSC-PHASE%201/jupyter.ipynb#Y161sZmlsZQ%3D%3D?line=12'>13</a>\u001b[0m     \u001b[39m## Create new columns with the genres & populate with 0 & 1\u001b[39;00m\n\u001b[0;32m     <a href='vscode-notebook-cell:/c%3A/Users/ADMIN/OneDrive/Desktop/LEARN%20DSC-PHASE%201/jupyter.ipynb#Y161sZmlsZQ%3D%3D?line=13'>14</a>\u001b[0m     \u001b[39m# Make a safe copy\u001b[39;00m\n",
      "\u001b[1;32mc:\\Users\\ADMIN\\OneDrive\\Desktop\\LEARN DSC-PHASE 1\\jupyter.ipynb Cell 57\u001b[0m line \u001b[0;36m4\n\u001b[0;32m      <a href='vscode-notebook-cell:/c%3A/Users/ADMIN/OneDrive/Desktop/LEARN%20DSC-PHASE%201/jupyter.ipynb#Y161sZmlsZQ%3D%3D?line=0'>1</a>\u001b[0m \u001b[39mdef\u001b[39;00m \u001b[39mget_all_unique_genres\u001b[39m(dataframe, genre_col_name):\n\u001b[0;32m      <a href='vscode-notebook-cell:/c%3A/Users/ADMIN/OneDrive/Desktop/LEARN%20DSC-PHASE%201/jupyter.ipynb#Y161sZmlsZQ%3D%3D?line=1'>2</a>\u001b[0m     \u001b[39m## Get list of unique genres\u001b[39;00m\n\u001b[0;32m      <a href='vscode-notebook-cell:/c%3A/Users/ADMIN/OneDrive/Desktop/LEARN%20DSC-PHASE%201/jupyter.ipynb#Y161sZmlsZQ%3D%3D?line=2'>3</a>\u001b[0m     \u001b[39m# Join all the (unique) genres values into one big string\u001b[39;00m\n\u001b[1;32m----> <a href='vscode-notebook-cell:/c%3A/Users/ADMIN/OneDrive/Desktop/LEARN%20DSC-PHASE%201/jupyter.ipynb#Y161sZmlsZQ%3D%3D?line=3'>4</a>\u001b[0m     var \u001b[39m=\u001b[39m dataframe[genre_col_name]\u001b[39m.\u001b[39munique()\n\u001b[0;32m      <a href='vscode-notebook-cell:/c%3A/Users/ADMIN/OneDrive/Desktop/LEARN%20DSC-PHASE%201/jupyter.ipynb#Y161sZmlsZQ%3D%3D?line=4'>5</a>\u001b[0m     list_all_genres \u001b[39m=\u001b[39m \u001b[39m'\u001b[39m\u001b[39m,\u001b[39m\u001b[39m'\u001b[39m\u001b[39m.\u001b[39mjoin(var)\n\u001b[0;32m      <a href='vscode-notebook-cell:/c%3A/Users/ADMIN/OneDrive/Desktop/LEARN%20DSC-PHASE%201/jupyter.ipynb#Y161sZmlsZQ%3D%3D?line=5'>6</a>\u001b[0m     \u001b[39m# Get a set of all unique genres (no duplicates)\u001b[39;00m\n",
      "File \u001b[1;32mc:\\ProgramData\\anaconda3\\Lib\\site-packages\\pandas\\core\\frame.py:3761\u001b[0m, in \u001b[0;36mDataFrame.__getitem__\u001b[1;34m(self, key)\u001b[0m\n\u001b[0;32m   3759\u001b[0m \u001b[39mif\u001b[39;00m \u001b[39mself\u001b[39m\u001b[39m.\u001b[39mcolumns\u001b[39m.\u001b[39mnlevels \u001b[39m>\u001b[39m \u001b[39m1\u001b[39m:\n\u001b[0;32m   3760\u001b[0m     \u001b[39mreturn\u001b[39;00m \u001b[39mself\u001b[39m\u001b[39m.\u001b[39m_getitem_multilevel(key)\n\u001b[1;32m-> 3761\u001b[0m indexer \u001b[39m=\u001b[39m \u001b[39mself\u001b[39m\u001b[39m.\u001b[39mcolumns\u001b[39m.\u001b[39mget_loc(key)\n\u001b[0;32m   3762\u001b[0m \u001b[39mif\u001b[39;00m is_integer(indexer):\n\u001b[0;32m   3763\u001b[0m     indexer \u001b[39m=\u001b[39m [indexer]\n",
      "File \u001b[1;32mc:\\ProgramData\\anaconda3\\Lib\\site-packages\\pandas\\core\\indexes\\base.py:3655\u001b[0m, in \u001b[0;36mIndex.get_loc\u001b[1;34m(self, key)\u001b[0m\n\u001b[0;32m   3653\u001b[0m     \u001b[39mreturn\u001b[39;00m \u001b[39mself\u001b[39m\u001b[39m.\u001b[39m_engine\u001b[39m.\u001b[39mget_loc(casted_key)\n\u001b[0;32m   3654\u001b[0m \u001b[39mexcept\u001b[39;00m \u001b[39mKeyError\u001b[39;00m \u001b[39mas\u001b[39;00m err:\n\u001b[1;32m-> 3655\u001b[0m     \u001b[39mraise\u001b[39;00m \u001b[39mKeyError\u001b[39;00m(key) \u001b[39mfrom\u001b[39;00m \u001b[39merr\u001b[39;00m\n\u001b[0;32m   3656\u001b[0m \u001b[39mexcept\u001b[39;00m \u001b[39mTypeError\u001b[39;00m:\n\u001b[0;32m   3657\u001b[0m     \u001b[39m# If we have a listlike key, _check_indexing_error will raise\u001b[39;00m\n\u001b[0;32m   3658\u001b[0m     \u001b[39m#  InvalidIndexError. Otherwise we fall through and re-raise\u001b[39;00m\n\u001b[0;32m   3659\u001b[0m     \u001b[39m#  the TypeError.\u001b[39;00m\n\u001b[0;32m   3660\u001b[0m     \u001b[39mself\u001b[39m\u001b[39m.\u001b[39m_check_indexing_error(key)\n",
      "\u001b[1;31mKeyError\u001b[0m: 'genres'"
     ]
    }
   ],
   "source": [
    "df_imdb= make_genre_columns(df_imdb, genre_col_name='genres', drop_genres_col=False)\n",
    "\n",
    "pd.options.display.max_columns = 50 #updating this for this table's 33 columns after the genre data to get the full picture\n",
    "df_imdb.head()"
   ]
  },
  {
   "cell_type": "code",
   "execution_count": 50,
   "metadata": {},
   "outputs": [
    {
     "ename": "NameError",
     "evalue": "name 'df_imdb_genres' is not defined",
     "output_type": "error",
     "traceback": [
      "\u001b[1;31m---------------------------------------------------------------------------\u001b[0m",
      "\u001b[1;31mNameError\u001b[0m                                 Traceback (most recent call last)",
      "\u001b[1;32mc:\\Users\\ADMIN\\OneDrive\\Desktop\\LEARN DSC-PHASE 1\\jupyter.ipynb Cell 58\u001b[0m line \u001b[0;36m1\n\u001b[1;32m----> <a href='vscode-notebook-cell:/c%3A/Users/ADMIN/OneDrive/Desktop/LEARN%20DSC-PHASE%201/jupyter.ipynb#Y162sZmlsZQ%3D%3D?line=0'>1</a>\u001b[0m df_profit_genre \u001b[39m=\u001b[39m df_tn_clean\u001b[39m.\u001b[39mmerge(df_imdb_genres, how\u001b[39m=\u001b[39m\u001b[39m'\u001b[39m\u001b[39mleft\u001b[39m\u001b[39m'\u001b[39m, left_on\u001b[39m=\u001b[39m\u001b[39m'\u001b[39m\u001b[39mmovie\u001b[39m\u001b[39m'\u001b[39m, right_on\u001b[39m=\u001b[39m\u001b[39m'\u001b[39m\u001b[39mprimary_title\u001b[39m\u001b[39m'\u001b[39m)\n\u001b[0;32m      <a href='vscode-notebook-cell:/c%3A/Users/ADMIN/OneDrive/Desktop/LEARN%20DSC-PHASE%201/jupyter.ipynb#Y162sZmlsZQ%3D%3D?line=1'>2</a>\u001b[0m df_profit_genre \u001b[39m=\u001b[39m df_profit_genre\u001b[39m.\u001b[39mdropna(subset\u001b[39m=\u001b[39m[\u001b[39m'\u001b[39m\u001b[39mgenres\u001b[39m\u001b[39m'\u001b[39m])\n\u001b[0;32m      <a href='vscode-notebook-cell:/c%3A/Users/ADMIN/OneDrive/Desktop/LEARN%20DSC-PHASE%201/jupyter.ipynb#Y162sZmlsZQ%3D%3D?line=3'>4</a>\u001b[0m \u001b[39mprint\u001b[39m(df_profit_genre\u001b[39m.\u001b[39mshape[\u001b[39m0\u001b[39m])\n",
      "\u001b[1;31mNameError\u001b[0m: name 'df_imdb_genres' is not defined"
     ]
    }
   ],
   "source": [
    "df_profit_genre = df_tn_clean.merge(df_imdb_genres, how='left', left_on='movie', right_on='primary_title')\n",
    "df_profit_genre = df_profit_genre.dropna(subset=['genres'])\n",
    "\n",
    "print(df_profit_genre.shape[0])\n",
    "df_profit_genre.head()\n",
    "3861"
   ]
  },
  {
   "cell_type": "code",
   "execution_count": 51,
   "metadata": {},
   "outputs": [
    {
     "ename": "NameError",
     "evalue": "name 'df_imdb_genres' is not defined",
     "output_type": "error",
     "traceback": [
      "\u001b[1;31m---------------------------------------------------------------------------\u001b[0m",
      "\u001b[1;31mNameError\u001b[0m                                 Traceback (most recent call last)",
      "\u001b[1;32mc:\\Users\\ADMIN\\OneDrive\\Desktop\\LEARN DSC-PHASE 1\\jupyter.ipynb Cell 59\u001b[0m line \u001b[0;36m2\n\u001b[0;32m      <a href='vscode-notebook-cell:/c%3A/Users/ADMIN/OneDrive/Desktop/LEARN%20DSC-PHASE%201/jupyter.ipynb#Y163sZmlsZQ%3D%3D?line=0'>1</a>\u001b[0m \u001b[39m#convert start_year to int from float column type- it appeared to be float type in the merged table but I'm not sure why.\u001b[39;00m\n\u001b[1;32m----> <a href='vscode-notebook-cell:/c%3A/Users/ADMIN/OneDrive/Desktop/LEARN%20DSC-PHASE%201/jupyter.ipynb#Y163sZmlsZQ%3D%3D?line=1'>2</a>\u001b[0m df_imdb_genres[\u001b[39m'\u001b[39m\u001b[39mrelease_year_imdb\u001b[39m\u001b[39m'\u001b[39m] \u001b[39m=\u001b[39m df_imdb_genres\u001b[39m.\u001b[39mapply(\u001b[39mlambda\u001b[39;00m x: \u001b[39mstr\u001b[39m(x[\u001b[39m'\u001b[39m\u001b[39mstart_year\u001b[39m\u001b[39m'\u001b[39m]), axis\u001b[39m=\u001b[39m\u001b[39m1\u001b[39m) \n\u001b[0;32m      <a href='vscode-notebook-cell:/c%3A/Users/ADMIN/OneDrive/Desktop/LEARN%20DSC-PHASE%201/jupyter.ipynb#Y163sZmlsZQ%3D%3D?line=2'>3</a>\u001b[0m df_imdb_genres\u001b[39m.\u001b[39mhead()\n\u001b[0;32m      <a href='vscode-notebook-cell:/c%3A/Users/ADMIN/OneDrive/Desktop/LEARN%20DSC-PHASE%201/jupyter.ipynb#Y163sZmlsZQ%3D%3D?line=4'>5</a>\u001b[0m \u001b[39m#now we are going to need to extract the year from the release_date column of the tn table\u001b[39;00m\n\u001b[0;32m      <a href='vscode-notebook-cell:/c%3A/Users/ADMIN/OneDrive/Desktop/LEARN%20DSC-PHASE%201/jupyter.ipynb#Y163sZmlsZQ%3D%3D?line=5'>6</a>\u001b[0m \u001b[39m#final 4 string characters of each 'release_date' should suffice\u001b[39;00m\n",
      "\u001b[1;31mNameError\u001b[0m: name 'df_imdb_genres' is not defined"
     ]
    }
   ],
   "source": [
    "#convert start_year to int from float column type- it appeared to be float type in the merged table but I'm not sure why.\n",
    "df_imdb_genres['release_year_imdb'] = df_imdb_genres.apply(lambda x: str(x['start_year']), axis=1) \n",
    "df_imdb_genres.head()\n",
    "\n",
    "#now we are going to need to extract the year from the release_date column of the tn table\n",
    "#final 4 string characters of each 'release_date' should suffice\n",
    "df_tn_clean['release_year_tn'] =  df_tn_clean.apply(lambda x: x['release_date'][-4:], axis=1) \n",
    "print(sorted(df_tn_clean['release_year_tn'].unique())) #confirmation that we don't have any strange values\n",
    "\n",
    "#now let's create the two columns we are going to 'join' on\n",
    "#year+movie title concatenation\n",
    "df_tn_clean['year_plus_movie_tn'] = df_tn_clean['release_year_tn'] + df_tn_clean['movie']\n",
    "df_imdb_genres['year_plus_movie_imdb'] = df_imdb_genres['release_year_imdb'] + df_imdb_genres['primary_title']\n",
    "\n",
    "display(df_tn_clean.head())\n",
    "display(df_imdb_genres.head())"
   ]
  },
  {
   "cell_type": "code",
   "execution_count": 52,
   "metadata": {},
   "outputs": [
    {
     "ename": "NameError",
     "evalue": "name 'df_imdb_genres' is not defined",
     "output_type": "error",
     "traceback": [
      "\u001b[1;31m---------------------------------------------------------------------------\u001b[0m",
      "\u001b[1;31mNameError\u001b[0m                                 Traceback (most recent call last)",
      "\u001b[1;32mc:\\Users\\ADMIN\\OneDrive\\Desktop\\LEARN DSC-PHASE 1\\jupyter.ipynb Cell 60\u001b[0m line \u001b[0;36m1\n\u001b[1;32m----> <a href='vscode-notebook-cell:/c%3A/Users/ADMIN/OneDrive/Desktop/LEARN%20DSC-PHASE%201/jupyter.ipynb#Y164sZmlsZQ%3D%3D?line=0'>1</a>\u001b[0m df_profit_genre_concat \u001b[39m=\u001b[39m df_tn_clean\u001b[39m.\u001b[39mmerge(df_imdb_genres, how\u001b[39m=\u001b[39m\u001b[39m'\u001b[39m\u001b[39mleft\u001b[39m\u001b[39m'\u001b[39m, left_on\u001b[39m=\u001b[39m\u001b[39m'\u001b[39m\u001b[39myear_plus_movie_tn\u001b[39m\u001b[39m'\u001b[39m, right_on\u001b[39m=\u001b[39m\u001b[39m'\u001b[39m\u001b[39myear_plus_movie_imdb\u001b[39m\u001b[39m'\u001b[39m)\n\u001b[0;32m      <a href='vscode-notebook-cell:/c%3A/Users/ADMIN/OneDrive/Desktop/LEARN%20DSC-PHASE%201/jupyter.ipynb#Y164sZmlsZQ%3D%3D?line=1'>2</a>\u001b[0m df_profit_genre_concat \u001b[39m=\u001b[39m df_profit_genre_concat\u001b[39m.\u001b[39mdropna(subset\u001b[39m=\u001b[39m[\u001b[39m'\u001b[39m\u001b[39mgenres\u001b[39m\u001b[39m'\u001b[39m])\n\u001b[0;32m      <a href='vscode-notebook-cell:/c%3A/Users/ADMIN/OneDrive/Desktop/LEARN%20DSC-PHASE%201/jupyter.ipynb#Y164sZmlsZQ%3D%3D?line=3'>4</a>\u001b[0m \u001b[39mprint\u001b[39m(df_profit_genre_concat\u001b[39m.\u001b[39mshape[\u001b[39m0\u001b[39m])\n",
      "\u001b[1;31mNameError\u001b[0m: name 'df_imdb_genres' is not defined"
     ]
    }
   ],
   "source": [
    "df_profit_genre_concat = df_tn_clean.merge(df_imdb_genres, how='left', left_on='year_plus_movie_tn', right_on='year_plus_movie_imdb')\n",
    "df_profit_genre_concat = df_profit_genre_concat.dropna(subset=['genres'])\n",
    "\n",
    "print(df_profit_genre_concat.shape[0])\n",
    "df_profit_genre_concat.head()"
   ]
  },
  {
   "cell_type": "code",
   "execution_count": 53,
   "metadata": {},
   "outputs": [
    {
     "ename": "NameError",
     "evalue": "name 'df_profit_genre_concat' is not defined",
     "output_type": "error",
     "traceback": [
      "\u001b[1;31m---------------------------------------------------------------------------\u001b[0m",
      "\u001b[1;31mNameError\u001b[0m                                 Traceback (most recent call last)",
      "\u001b[1;32mc:\\Users\\ADMIN\\OneDrive\\Desktop\\LEARN DSC-PHASE 1\\jupyter.ipynb Cell 61\u001b[0m line \u001b[0;36m1\n\u001b[1;32m----> <a href='vscode-notebook-cell:/c%3A/Users/ADMIN/OneDrive/Desktop/LEARN%20DSC-PHASE%201/jupyter.ipynb#Y165sZmlsZQ%3D%3D?line=0'>1</a>\u001b[0m df_profit_genre_concat\u001b[39m.\u001b[39mdescribe()\n",
      "\u001b[1;31mNameError\u001b[0m: name 'df_profit_genre_concat' is not defined"
     ]
    }
   ],
   "source": [
    "df_profit_genre_concat.describe()"
   ]
  },
  {
   "cell_type": "code",
   "execution_count": 54,
   "metadata": {},
   "outputs": [
    {
     "ename": "KeyError",
     "evalue": "'genres'",
     "output_type": "error",
     "traceback": [
      "\u001b[1;31m---------------------------------------------------------------------------\u001b[0m",
      "\u001b[1;31mKeyError\u001b[0m                                  Traceback (most recent call last)",
      "File \u001b[1;32mc:\\ProgramData\\anaconda3\\Lib\\site-packages\\pandas\\core\\indexes\\base.py:3653\u001b[0m, in \u001b[0;36mIndex.get_loc\u001b[1;34m(self, key)\u001b[0m\n\u001b[0;32m   3652\u001b[0m \u001b[39mtry\u001b[39;00m:\n\u001b[1;32m-> 3653\u001b[0m     \u001b[39mreturn\u001b[39;00m \u001b[39mself\u001b[39m\u001b[39m.\u001b[39m_engine\u001b[39m.\u001b[39mget_loc(casted_key)\n\u001b[0;32m   3654\u001b[0m \u001b[39mexcept\u001b[39;00m \u001b[39mKeyError\u001b[39;00m \u001b[39mas\u001b[39;00m err:\n",
      "File \u001b[1;32mc:\\ProgramData\\anaconda3\\Lib\\site-packages\\pandas\\_libs\\index.pyx:147\u001b[0m, in \u001b[0;36mpandas._libs.index.IndexEngine.get_loc\u001b[1;34m()\u001b[0m\n",
      "File \u001b[1;32mc:\\ProgramData\\anaconda3\\Lib\\site-packages\\pandas\\_libs\\index.pyx:176\u001b[0m, in \u001b[0;36mpandas._libs.index.IndexEngine.get_loc\u001b[1;34m()\u001b[0m\n",
      "File \u001b[1;32mpandas\\_libs\\hashtable_class_helper.pxi:7080\u001b[0m, in \u001b[0;36mpandas._libs.hashtable.PyObjectHashTable.get_item\u001b[1;34m()\u001b[0m\n",
      "File \u001b[1;32mpandas\\_libs\\hashtable_class_helper.pxi:7088\u001b[0m, in \u001b[0;36mpandas._libs.hashtable.PyObjectHashTable.get_item\u001b[1;34m()\u001b[0m\n",
      "\u001b[1;31mKeyError\u001b[0m: 'genres'",
      "\nThe above exception was the direct cause of the following exception:\n",
      "\u001b[1;31mKeyError\u001b[0m                                  Traceback (most recent call last)",
      "\u001b[1;32mc:\\Users\\ADMIN\\OneDrive\\Desktop\\LEARN DSC-PHASE 1\\jupyter.ipynb Cell 62\u001b[0m line \u001b[0;36m1\n\u001b[1;32m----> <a href='vscode-notebook-cell:/c%3A/Users/ADMIN/OneDrive/Desktop/LEARN%20DSC-PHASE%201/jupyter.ipynb#Y166sZmlsZQ%3D%3D?line=0'>1</a>\u001b[0m unique_genre_names \u001b[39m=\u001b[39m get_all_unique_genres(df_imdb, \u001b[39m'\u001b[39m\u001b[39mgenres\u001b[39m\u001b[39m'\u001b[39m)\n\u001b[0;32m      <a href='vscode-notebook-cell:/c%3A/Users/ADMIN/OneDrive/Desktop/LEARN%20DSC-PHASE%201/jupyter.ipynb#Y166sZmlsZQ%3D%3D?line=2'>3</a>\u001b[0m \u001b[39m#No genres for these with profit data, no need to calc means and medians for these columns\u001b[39;00m\n\u001b[0;32m      <a href='vscode-notebook-cell:/c%3A/Users/ADMIN/OneDrive/Desktop/LEARN%20DSC-PHASE%201/jupyter.ipynb#Y166sZmlsZQ%3D%3D?line=3'>4</a>\u001b[0m genres_to_remove \u001b[39m=\u001b[39m [\u001b[39m'\u001b[39m\u001b[39mAdult\u001b[39m\u001b[39m'\u001b[39m, \u001b[39m'\u001b[39m\u001b[39mGame-Show\u001b[39m\u001b[39m'\u001b[39m, \u001b[39m'\u001b[39m\u001b[39mNews\u001b[39m\u001b[39m'\u001b[39m, \u001b[39m'\u001b[39m\u001b[39mShort\u001b[39m\u001b[39m'\u001b[39m, \u001b[39m'\u001b[39m\u001b[39mTalk-Show\u001b[39m\u001b[39m'\u001b[39m]\n",
      "\u001b[1;32mc:\\Users\\ADMIN\\OneDrive\\Desktop\\LEARN DSC-PHASE 1\\jupyter.ipynb Cell 62\u001b[0m line \u001b[0;36m4\n\u001b[0;32m      <a href='vscode-notebook-cell:/c%3A/Users/ADMIN/OneDrive/Desktop/LEARN%20DSC-PHASE%201/jupyter.ipynb#Y166sZmlsZQ%3D%3D?line=0'>1</a>\u001b[0m \u001b[39mdef\u001b[39;00m \u001b[39mget_all_unique_genres\u001b[39m(dataframe, genre_col_name):\n\u001b[0;32m      <a href='vscode-notebook-cell:/c%3A/Users/ADMIN/OneDrive/Desktop/LEARN%20DSC-PHASE%201/jupyter.ipynb#Y166sZmlsZQ%3D%3D?line=1'>2</a>\u001b[0m     \u001b[39m## Get list of unique genres\u001b[39;00m\n\u001b[0;32m      <a href='vscode-notebook-cell:/c%3A/Users/ADMIN/OneDrive/Desktop/LEARN%20DSC-PHASE%201/jupyter.ipynb#Y166sZmlsZQ%3D%3D?line=2'>3</a>\u001b[0m     \u001b[39m# Join all the (unique) genres values into one big string\u001b[39;00m\n\u001b[1;32m----> <a href='vscode-notebook-cell:/c%3A/Users/ADMIN/OneDrive/Desktop/LEARN%20DSC-PHASE%201/jupyter.ipynb#Y166sZmlsZQ%3D%3D?line=3'>4</a>\u001b[0m     var \u001b[39m=\u001b[39m dataframe[genre_col_name]\u001b[39m.\u001b[39munique()\n\u001b[0;32m      <a href='vscode-notebook-cell:/c%3A/Users/ADMIN/OneDrive/Desktop/LEARN%20DSC-PHASE%201/jupyter.ipynb#Y166sZmlsZQ%3D%3D?line=4'>5</a>\u001b[0m     list_all_genres \u001b[39m=\u001b[39m \u001b[39m'\u001b[39m\u001b[39m,\u001b[39m\u001b[39m'\u001b[39m\u001b[39m.\u001b[39mjoin(var)\n\u001b[0;32m      <a href='vscode-notebook-cell:/c%3A/Users/ADMIN/OneDrive/Desktop/LEARN%20DSC-PHASE%201/jupyter.ipynb#Y166sZmlsZQ%3D%3D?line=5'>6</a>\u001b[0m     \u001b[39m# Get a set of all unique genres (no duplicates)\u001b[39;00m\n",
      "File \u001b[1;32mc:\\ProgramData\\anaconda3\\Lib\\site-packages\\pandas\\core\\frame.py:3761\u001b[0m, in \u001b[0;36mDataFrame.__getitem__\u001b[1;34m(self, key)\u001b[0m\n\u001b[0;32m   3759\u001b[0m \u001b[39mif\u001b[39;00m \u001b[39mself\u001b[39m\u001b[39m.\u001b[39mcolumns\u001b[39m.\u001b[39mnlevels \u001b[39m>\u001b[39m \u001b[39m1\u001b[39m:\n\u001b[0;32m   3760\u001b[0m     \u001b[39mreturn\u001b[39;00m \u001b[39mself\u001b[39m\u001b[39m.\u001b[39m_getitem_multilevel(key)\n\u001b[1;32m-> 3761\u001b[0m indexer \u001b[39m=\u001b[39m \u001b[39mself\u001b[39m\u001b[39m.\u001b[39mcolumns\u001b[39m.\u001b[39mget_loc(key)\n\u001b[0;32m   3762\u001b[0m \u001b[39mif\u001b[39;00m is_integer(indexer):\n\u001b[0;32m   3763\u001b[0m     indexer \u001b[39m=\u001b[39m [indexer]\n",
      "File \u001b[1;32mc:\\ProgramData\\anaconda3\\Lib\\site-packages\\pandas\\core\\indexes\\base.py:3655\u001b[0m, in \u001b[0;36mIndex.get_loc\u001b[1;34m(self, key)\u001b[0m\n\u001b[0;32m   3653\u001b[0m     \u001b[39mreturn\u001b[39;00m \u001b[39mself\u001b[39m\u001b[39m.\u001b[39m_engine\u001b[39m.\u001b[39mget_loc(casted_key)\n\u001b[0;32m   3654\u001b[0m \u001b[39mexcept\u001b[39;00m \u001b[39mKeyError\u001b[39;00m \u001b[39mas\u001b[39;00m err:\n\u001b[1;32m-> 3655\u001b[0m     \u001b[39mraise\u001b[39;00m \u001b[39mKeyError\u001b[39;00m(key) \u001b[39mfrom\u001b[39;00m \u001b[39merr\u001b[39;00m\n\u001b[0;32m   3656\u001b[0m \u001b[39mexcept\u001b[39;00m \u001b[39mTypeError\u001b[39;00m:\n\u001b[0;32m   3657\u001b[0m     \u001b[39m# If we have a listlike key, _check_indexing_error will raise\u001b[39;00m\n\u001b[0;32m   3658\u001b[0m     \u001b[39m#  InvalidIndexError. Otherwise we fall through and re-raise\u001b[39;00m\n\u001b[0;32m   3659\u001b[0m     \u001b[39m#  the TypeError.\u001b[39;00m\n\u001b[0;32m   3660\u001b[0m     \u001b[39mself\u001b[39m\u001b[39m.\u001b[39m_check_indexing_error(key)\n",
      "\u001b[1;31mKeyError\u001b[0m: 'genres'"
     ]
    }
   ],
   "source": [
    "unique_genre_names = get_all_unique_genres(df_imdb, 'genres')\n",
    "\n",
    "#No genres for these with profit data, no need to calc means and medians for these columns\n",
    "genres_to_remove = ['Adult', 'Game-Show', 'News', 'Short', 'Talk-Show']\n",
    "for genre in genres_to_remove:\n",
    "    unique_genre_names.remove(genre)\n",
    "    \n",
    "genre_means = []\n",
    "genre_medians = []\n",
    "#for each genre in names--- filter and find the average and median profits\n",
    "for genre in unique_genre_names:\n",
    "    temp_df_test = df_profit_genre_concat[(df_profit_genre_concat[genre] == 1)]\n",
    "    genre_means.append(temp_df_test['ww_profit'].mean()/1000000) #dividing by 1 million so that the graph data shows per million$\n",
    "    genre_medians.append(temp_df_test['ww_profit'].median()/1000000)\n",
    "\n",
    "print(unique_genre_names)\n",
    "print(genre_means)\n",
    "print(genre_medians)"
   ]
  },
  {
   "cell_type": "code",
   "execution_count": 55,
   "metadata": {},
   "outputs": [
    {
     "ename": "NameError",
     "evalue": "name 'unique_genre_names' is not defined",
     "output_type": "error",
     "traceback": [
      "\u001b[1;31m---------------------------------------------------------------------------\u001b[0m",
      "\u001b[1;31mNameError\u001b[0m                                 Traceback (most recent call last)",
      "\u001b[1;32mc:\\Users\\ADMIN\\OneDrive\\Desktop\\LEARN DSC-PHASE 1\\jupyter.ipynb Cell 63\u001b[0m line \u001b[0;36m2\n\u001b[0;32m      <a href='vscode-notebook-cell:/c%3A/Users/ADMIN/OneDrive/Desktop/LEARN%20DSC-PHASE%201/jupyter.ipynb#Y200sZmlsZQ%3D%3D?line=0'>1</a>\u001b[0m fig, ax \u001b[39m=\u001b[39m plt\u001b[39m.\u001b[39msubplots(figsize\u001b[39m=\u001b[39m(\u001b[39m16\u001b[39m, \u001b[39m8\u001b[39m))\n\u001b[1;32m----> <a href='vscode-notebook-cell:/c%3A/Users/ADMIN/OneDrive/Desktop/LEARN%20DSC-PHASE%201/jupyter.ipynb#Y200sZmlsZQ%3D%3D?line=1'>2</a>\u001b[0m ax \u001b[39m=\u001b[39m sns\u001b[39m.\u001b[39mbarplot(x\u001b[39m=\u001b[39m unique_genre_names, y\u001b[39m=\u001b[39mgenre_means, palette\u001b[39m=\u001b[39m\u001b[39m\"\u001b[39m\u001b[39mmagma\u001b[39m\u001b[39m\"\u001b[39m)\n\u001b[0;32m      <a href='vscode-notebook-cell:/c%3A/Users/ADMIN/OneDrive/Desktop/LEARN%20DSC-PHASE%201/jupyter.ipynb#Y200sZmlsZQ%3D%3D?line=3'>4</a>\u001b[0m plt\u001b[39m.\u001b[39mxticks(rotation\u001b[39m=\u001b[39m\u001b[39m45\u001b[39m)\n\u001b[0;32m      <a href='vscode-notebook-cell:/c%3A/Users/ADMIN/OneDrive/Desktop/LEARN%20DSC-PHASE%201/jupyter.ipynb#Y200sZmlsZQ%3D%3D?line=4'>5</a>\u001b[0m plt\u001b[39m.\u001b[39mtitle(\u001b[39m\"\u001b[39m\u001b[39mAverage Profits per Genre\u001b[39m\u001b[39m\"\u001b[39m, fontsize\u001b[39m=\u001b[39m\u001b[39m30\u001b[39m)\n",
      "\u001b[1;31mNameError\u001b[0m: name 'unique_genre_names' is not defined"
     ]
    },
    {
     "data": {
      "image/png": "[encoded data removed]",
      "text/plain": [
       "<Figure size 1600x800 with 1 Axes>"
      ]
     },
     "metadata": {},
     "output_type": "display_data"
    }
   ],
   "source": [
    "fig, ax = plt.subplots(figsize=(16, 8))\n",
    "ax = sns.barplot(x= unique_genre_names, y=genre_means, palette=\"magma\")\n",
    "\n",
    "plt.xticks(rotation=45)\n",
    "plt.title(\"Average Profits per Genre\", fontsize=30)\n",
    "ax.set_xlabel(\"Genre\", fontsize=15)\n",
    "ax.set_ylabel(\"Average Profit ($ million)\", fontsize=15);"
   ]
  },
  {
   "cell_type": "markdown",
   "metadata": {},
   "source": [
    "Looking at our top 4 genres, we have several clear winners for \"Average Profit\"\n",
    "\n",
    "Animation,\n",
    "Sci-Fi,\n",
    "Adventure,\n",
    "Musical."
   ]
  },
  {
   "cell_type": "markdown",
   "metadata": {},
   "source": [
    "This is very useful information. However, a single movie in one specific genre could have been an enormous hit and could be potentially skewing these results. Let's visualize the medians per genre to see if this is the case."
   ]
  },
  {
   "cell_type": "code",
   "execution_count": 59,
   "metadata": {},
   "outputs": [
    {
     "ename": "NameError",
     "evalue": "name 'unique_genre_names' is not defined",
     "output_type": "error",
     "traceback": [
      "\u001b[1;31m---------------------------------------------------------------------------\u001b[0m",
      "\u001b[1;31mNameError\u001b[0m                                 Traceback (most recent call last)",
      "\u001b[1;32mc:\\Users\\ADMIN\\OneDrive\\Desktop\\LEARN DSC-PHASE 1\\jupyter.ipynb Cell 66\u001b[0m line \u001b[0;36m2\n\u001b[0;32m      <a href='vscode-notebook-cell:/c%3A/Users/ADMIN/OneDrive/Desktop/LEARN%20DSC-PHASE%201/jupyter.ipynb#Y206sZmlsZQ%3D%3D?line=0'>1</a>\u001b[0m fig, ax \u001b[39m=\u001b[39m plt\u001b[39m.\u001b[39msubplots(figsize\u001b[39m=\u001b[39m(\u001b[39m16\u001b[39m, \u001b[39m8\u001b[39m))\n\u001b[1;32m----> <a href='vscode-notebook-cell:/c%3A/Users/ADMIN/OneDrive/Desktop/LEARN%20DSC-PHASE%201/jupyter.ipynb#Y206sZmlsZQ%3D%3D?line=1'>2</a>\u001b[0m ax \u001b[39m=\u001b[39m sns\u001b[39m.\u001b[39mbarplot(x\u001b[39m=\u001b[39m unique_genre_names, y\u001b[39m=\u001b[39mgenre_medians, palette\u001b[39m=\u001b[39m\u001b[39m\"\u001b[39m\u001b[39mmagma\u001b[39m\u001b[39m\"\u001b[39m)\n\u001b[0;32m      <a href='vscode-notebook-cell:/c%3A/Users/ADMIN/OneDrive/Desktop/LEARN%20DSC-PHASE%201/jupyter.ipynb#Y206sZmlsZQ%3D%3D?line=3'>4</a>\u001b[0m plt\u001b[39m.\u001b[39mxticks(rotation\u001b[39m=\u001b[39m\u001b[39m45\u001b[39m)\n\u001b[0;32m      <a href='vscode-notebook-cell:/c%3A/Users/ADMIN/OneDrive/Desktop/LEARN%20DSC-PHASE%201/jupyter.ipynb#Y206sZmlsZQ%3D%3D?line=4'>5</a>\u001b[0m plt\u001b[39m.\u001b[39mtitle(\u001b[39m\"\u001b[39m\u001b[39mMedian Profits per Genre\u001b[39m\u001b[39m\"\u001b[39m, fontsize\u001b[39m=\u001b[39m\u001b[39m30\u001b[39m)\n",
      "\u001b[1;31mNameError\u001b[0m: name 'unique_genre_names' is not defined"
     ]
    },
    {
     "data": {
      "image/png": "[encoded data removed]",
      "text/plain": [
       "<Figure size 1600x800 with 1 Axes>"
      ]
     },
     "metadata": {},
     "output_type": "display_data"
    }
   ],
   "source": [
    "fig, ax = plt.subplots(figsize=(16, 8))\n",
    "ax = sns.barplot(x= unique_genre_names, y=genre_medians, palette=\"magma\")\n",
    "\n",
    "plt.xticks(rotation=45)\n",
    "plt.title(\"Median Profits per Genre\", fontsize=30)\n",
    "ax.set_xlabel(\"Genre\", fontsize=15)\n",
    "ax.set_ylabel(\"Median Profit ($ million)\", fontsize=15);\n"
   ]
  },
  {
   "cell_type": "markdown",
   "metadata": {},
   "source": [
    "As we can see, our top 4 for \"Median Profit\" has become\n",
    "\n",
    "Animation,\n",
    "Adventure,\n",
    "Sci-Fi,\n",
    "Action"
   ]
  },
  {
   "cell_type": "markdown",
   "metadata": {},
   "source": [
    "We have essentially the same top 3, but what in the world happened to our \"musical\" category we were looking at just a moment ago? From the visualization, we can see that calculating the median of these movies revealed what we believed to be true; your \"average\" popularity musical film does not seem to do so well as far as profits are concerned. Some outliers in this category are skewing the mean heavily."
   ]
  },
  {
   "cell_type": "markdown",
   "metadata": {},
   "source": [
    "CONCLUSIONS"
   ]
  },
  {
   "cell_type": "markdown",
   "metadata": {},
   "source": [
    "We have essentially the same top 3, but what in the world happened to our \"musical\" category we were looking at just a moment ago? From the visualization, we can see that calculating the median of these movies revealed what we believed to be true; your \"average\" popularity musical film does not seem to do so well as far as profits are concerned. Some outliers in this category are skewing the mean heavily.\n",
    "\n"
   ]
  },
  {
   "cell_type": "markdown",
   "metadata": {},
   "source": [
    "From our analysis, our top 4 highest-rated genres are (in order):\n",
    "Documentary,\n",
    "Music,\n",
    "History,\n",
    "Animation"
   ]
  },
  {
   "cell_type": "markdown",
   "metadata": {},
   "source": [
    "Unfortunately, there are some limitations to this. This conclusion was only determined based on a single dataset. To add more robustness to this conclusion, I would recommend that another ratings dataset be cleaned and visualized; the IMDB dataset would be excellent for this. Additionally, there was a minimum ratings filter set to 5 for this visualization. In doing so, this removed about half our datapoints. However, since we are an extremely large company (Microsoft) trying to get into the movies space, we are likely targeting larger scale movies. If our movies are recieving less than 5 ratings, we might be in trouble. So, perhaps the data we filtered out is not as relevant to us and there is no issue with our methodology here."
   ]
  },
  {
   "cell_type": "markdown",
   "metadata": {},
   "source": [
    "From our analysis, top 3 most profitable genres are clearly:\n",
    "Animation,\n",
    "Adventure,\n",
    "Sci-Fi."
   ]
  },
  {
   "cell_type": "markdown",
   "metadata": {},
   "source": [
    "Future Improvements\n"
   ]
  },
  {
   "cell_type": "markdown",
   "metadata": {},
   "source": [
    "Return on investment data would be extremely useful for investors. Unfortunately, my data has limitations- I only calculated if movies for a certain genre at least broke even (aka technically profitable). If a movie budget was 100 million dollars and we only made a profit of one dollar, it's TECHNICALLY still profitable, but that is probably not considered a successful box office killing. Return on investment would be more relevant for scenarios like this."
   ]
  },
  {
   "cell_type": "markdown",
   "metadata": {},
   "source": [
    "The dataset I used for ratings was somewhat limiting. Investigating another dataset such as the IMDB would provide another perspective to potentially confirm this data. Different types of users browse, use, and give different ratings on different sites. There's no telling what the differences in preference might be."
   ]
  },
  {
   "cell_type": "markdown",
   "metadata": {},
   "source": []
  }
 ],
 "metadata": {
  "kernelspec": {
   "display_name": "base",
   "language": "python",
   "name": "python3"
  },
  "language_info": {
   "codemirror_mode": {
    "name": "ipython",
    "version": 3
   },
   "file_extension": ".py",
   "mimetype": "text/x-python",
   "name": "python",
   "nbconvert_exporter": "python",
   "pygments_lexer": "ipython3",
   "version": "3.11.5"
  }
 },
 "nbformat": 4,
 "nbformat_minor": 2
}
